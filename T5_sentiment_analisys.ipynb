{
 "cells": [
  {
   "cell_type": "markdown",
   "id": "89c4b390-2cf4-488f-93eb-30bbb17e1757",
   "metadata": {},
   "source": [
    "# T5 Fine-Tunning for sentiment analysis\n",
    "\n",
    "T5 fine-tuning for sentiment analysis. It is very simple to adapt this model to other tasks such as recommendations, summaries, etc. See the paper for more details: [Exploring the Limits of Transfer Learning with a Unified\n",
    "Text-to-Text Transformer](https://arxiv.org/pdf/1910.10683.pdf)"
   ]
  },
  {
   "cell_type": "markdown",
   "id": "8d723f02-05e8-47c1-9ab1-4bf9cb5a4b5c",
   "metadata": {},
   "source": [
    "## Referencies\n",
    "\n",
    "* [Huggingface T5 documentation](https://huggingface.co/docs/transformers/v4.35.1/en/model_doc/t5#t5)\n",
    "* [T5 Fine tunning](https://colab.research.google.com/github/patil-suraj/exploring-T5/blob/master/t5_fine_tuning.ipynb#scrollTo=SDVQ04fGRb1v)\n",
    "* [Exploring the Limits of Transfer Learning with a UnifiedText-to-Text Transformer](https://arxiv.org/pdf/1910.10683.pdf)"
   ]
  },
  {
   "cell_type": "code",
   "execution_count": 1,
   "id": "982b7d8b-395e-4553-975a-f04e76295fcf",
   "metadata": {
    "tags": []
   },
   "outputs": [],
   "source": [
    "%load_ext autoreload\n",
    "%autoreload 2"
   ]
  },
  {
   "cell_type": "code",
   "execution_count": 2,
   "id": "dd2f64ab-11a0-4d49-98c9-cd26183396da",
   "metadata": {
    "tags": []
   },
   "outputs": [],
   "source": [
    "import sys\n",
    "sys.path.append(f'./src')\n",
    "\n",
    "import os\n",
    "import argparse\n",
    "import glob\n",
    "import random\n",
    "import util as ut \n",
    "import model as ml\n",
    "import shutil\n",
    "\n",
    "import dataset as ds\n",
    "import pytorch_lightning as pl\n",
    "from pytorch_lightning.callbacks import ModelCheckpoint\n",
    "    \n",
    "from transformers import T5Tokenizer\n",
    "\n",
    "import nltk\n",
    "from bunch import Bunch\n",
    "\n",
    "import torch\n",
    "from torch.utils.data import DataLoader"
   ]
  },
  {
   "cell_type": "markdown",
   "id": "cd6c739e-efea-43a0-bbd0-2f8bcc140052",
   "metadata": {},
   "source": [
    "## Setup"
   ]
  },
  {
   "cell_type": "code",
   "execution_count": 3,
   "id": "d0d40acd-a2c7-4645-b5ab-b5d0ef3ec63c",
   "metadata": {
    "tags": []
   },
   "outputs": [],
   "source": [
    "ut.set_seed(42)"
   ]
  },
  {
   "cell_type": "code",
   "execution_count": 4,
   "id": "4962878d-7c4d-41df-8e8a-4f7b319ee7d1",
   "metadata": {
    "tags": []
   },
   "outputs": [
    {
     "name": "stderr",
     "output_type": "stream",
     "text": [
      "[nltk_data] Downloading package punkt to /home/adrian/nltk_data...\n",
      "[nltk_data]   Package punkt is already up-to-date!\n"
     ]
    },
    {
     "data": {
      "text/html": [
       "<pre style=\"white-space:pre;overflow-x:auto;line-height:normal;font-family:Menlo,'DejaVu Sans Mono',consolas,'Courier New',monospace\"></pre>\n"
      ],
      "text/plain": []
     },
     "metadata": {},
     "output_type": "display_data"
    },
    {
     "data": {
      "text/plain": [
       "\u001b[3;92mTrue\u001b[0m"
      ]
     },
     "execution_count": 4,
     "metadata": {},
     "output_type": "execute_result"
    }
   ],
   "source": [
    "nltk.download(\"punkt\")"
   ]
  },
  {
   "cell_type": "code",
   "execution_count": 5,
   "id": "d7a6076d-e0d0-43bf-ab1a-d25e9bf7af77",
   "metadata": {},
   "outputs": [],
   "source": [
    "import warnings\n",
    "\n",
    "warnings.filterwarnings('ignore')\n",
    "warnings.filterwarnings('ignore', category=FutureWarning)\n",
    "warnings.filterwarnings('ignore', category=UserWarning)"
   ]
  },
  {
   "cell_type": "code",
   "execution_count": 6,
   "id": "c39902bd-90a1-4a99-81c9-b766bee136f6",
   "metadata": {},
   "outputs": [],
   "source": [
    "torch.backends.cuda.matmul.allow_tf32 = True"
   ]
  },
  {
   "cell_type": "markdown",
   "id": "6608b483-bf61-4f4f-8e8c-4f5a3d588563",
   "metadata": {},
   "source": [
    "## Helper Functions"
   ]
  },
  {
   "cell_type": "code",
   "execution_count": 7,
   "id": "62473dc8-7166-4729-94b0-dc91964e4d64",
   "metadata": {
    "tags": []
   },
   "outputs": [],
   "source": [
    "def sets_counts(path):\n",
    "    train_pos_size = len(glob.glob(f'{path}/dataset/train/pos/*.txt'))\n",
    "    eval_pos_size  = len(glob.glob(f'{path}/dataset/eval/pos/*.txt'))\n",
    "    test_pos_size  = len(glob.glob(f'{path}/dataset/test/pos/*.txt'))\n",
    "    \n",
    "    train_neg_size = len(glob.glob(f'{path}/dataset/train/neg/*.txt'))\n",
    "    eval_neg_size  = len(glob.glob(f'{path}/dataset/eval/neg/*.txt'))\n",
    "    test_neg_size  = len(glob.glob(f'{path}/dataset/test/neg/*.txt'))\n",
    "\n",
    "    all_pos_size   = train_pos_size + eval_pos_size + test_pos_size\n",
    "    all_neg_size   = train_neg_size + eval_neg_size + test_neg_size\n",
    "\n",
    "    print(f'All: {(all_pos_size, all_neg_size)}, Train: {(train_pos_size, train_neg_size)}, Eval: {(eval_pos_size, eval_neg_size)}, Test: {(test_pos_size, test_neg_size)}')\n",
    "\n",
    "    return (train_pos_size, eval_pos_size, test_pos_size)\n",
    "\n",
    "\n",
    "\n",
    "def download_dataset(\n",
    "    path          = '.',\n",
    "    train_percent = 0.7, \n",
    "    eval_percent  = 0.2, \n",
    "    test_percent  = 0.1\n",
    "):\n",
    "    if os.path.exists(f'{path}/dataset'):\n",
    "        return sets_counts(path)\n",
    "\n",
    "    !rm -rf {path}/aclImdb\n",
    "    !rm -rf {path}/aclImdb_v1.tar.gz\n",
    "\n",
    "    !cd {path}; wget https://ai.stanford.edu/~amaas/data/sentiment/aclImdb_v1.tar.gz\n",
    "\n",
    "    !cd {path}; tar -xf aclImdb_v1.tar.gz\n",
    "    \n",
    "    !cd {path}; rm aclImdb_v1.tar.gz\n",
    "        \n",
    "    !cd {path}; mv aclImdb dataset\n",
    "    \n",
    "    !cd {path}/dataset; mv train all\n",
    "    !cd {path}/dataset; mv test/pos/* all/pos/\n",
    "    !cd {path}/dataset; mv test/neg/* all/neg/\n",
    "    !cd {path}/dataset; rm -rf test\n",
    "\n",
    "    pos_files = glob.glob(f'{path}/dataset/all/pos/*.txt')\n",
    "    neg_files = glob.glob(f'{path}/dataset/all/neg/*.txt')\n",
    "  \n",
    "    random.shuffle(pos_files)\n",
    "    random.shuffle(neg_files)\n",
    "\n",
    "    ut.mkdir(f'{path}/dataset/train/pos')\n",
    "    ut.mkdir(f'{path}/dataset/train/neg')\n",
    "    \n",
    "    ut.mkdir(f'{path}/dataset/eval/pos')\n",
    "    ut.mkdir(f'{path}/dataset/eval/neg')\n",
    "    \n",
    "    ut.mkdir(f'{path}/dataset/test/pos')\n",
    "    ut.mkdir(f'{path}/dataset/test/neg')\n",
    " \n",
    "    train_size = int(len(pos_files) * train_percent)\n",
    "    eval_size  = int(len(pos_files) * eval_percent)\n",
    "    test_size  = int(len(pos_files) * test_percent)\n",
    "\n",
    "    for f in pos_files[:train_size]: shutil.copy(f,  f'{path}/dataset/train/pos')\n",
    "    for f in neg_files[:train_size]: shutil.copy(f,  f'{path}/dataset/train/neg')\n",
    "\n",
    "    for f in pos_files[train_size:train_size+eval_size]: shutil.copy(f,  f'{path}/dataset/eval/pos')\n",
    "    for f in neg_files[train_size:train_size+eval_size]: shutil.copy(f,  f'{path}/dataset/eval/neg')\n",
    "\n",
    "    for f in pos_files[train_size+eval_size:train_size+eval_size+test_size]: shutil.copy(f,  f'{path}/dataset/test/pos')\n",
    "    for f in neg_files[train_size+eval_size:train_size+eval_size+test_size]: shutil.copy(f,  f'{path}/dataset/test/neg')\n",
    "    \n",
    "    !cd {path}/dataset; rm -rf all\n",
    "\n",
    "    return sets_counts(path)"
   ]
  },
  {
   "cell_type": "code",
   "execution_count": 8,
   "id": "9e33184e-cba0-4597-9359-ff9a9c5ab120",
   "metadata": {
    "tags": []
   },
   "outputs": [],
   "source": [
    "def get_dataset(tokenizer, path, hyper_params):\n",
    "    return ds.ImdbReviewsDataset(tokenizer, path, max_len = hyper_params.max_seq_length)"
   ]
  },
  {
   "cell_type": "markdown",
   "id": "eb2ae5ae-b8ea-4b8c-b2e2-a9b1307dd111",
   "metadata": {},
   "source": [
    "## Build Dataset"
   ]
  },
  {
   "cell_type": "code",
   "execution_count": 9,
   "id": "82fc1010-8e07-45f1-94fd-c87363fff1fc",
   "metadata": {
    "tags": []
   },
   "outputs": [
    {
     "data": {
      "text/html": [
       "<pre style=\"white-space:pre;overflow-x:auto;line-height:normal;font-family:Menlo,'DejaVu Sans Mono',consolas,'Courier New',monospace\">All: <span style=\"font-weight: bold\">(</span><span style=\"color: #008080; text-decoration-color: #008080; font-weight: bold\">2359</span>, <span style=\"color: #008080; text-decoration-color: #008080; font-weight: bold\">2359</span><span style=\"font-weight: bold\">)</span>, Train: <span style=\"font-weight: bold\">(</span><span style=\"color: #008080; text-decoration-color: #008080; font-weight: bold\">1502</span>, <span style=\"color: #008080; text-decoration-color: #008080; font-weight: bold\">1502</span><span style=\"font-weight: bold\">)</span>, Eval: <span style=\"font-weight: bold\">(</span><span style=\"color: #008080; text-decoration-color: #008080; font-weight: bold\">643</span>, <span style=\"color: #008080; text-decoration-color: #008080; font-weight: bold\">643</span><span style=\"font-weight: bold\">)</span>, Test: <span style=\"font-weight: bold\">(</span><span style=\"color: #008080; text-decoration-color: #008080; font-weight: bold\">214</span>, <span style=\"color: #008080; text-decoration-color: #008080; font-weight: bold\">214</span><span style=\"font-weight: bold\">)</span>\n",
       "</pre>\n"
      ],
      "text/plain": [
       "All: \u001b[1m(\u001b[0m\u001b[1;36m2359\u001b[0m, \u001b[1;36m2359\u001b[0m\u001b[1m)\u001b[0m, Train: \u001b[1m(\u001b[0m\u001b[1;36m1502\u001b[0m, \u001b[1;36m1502\u001b[0m\u001b[1m)\u001b[0m, Eval: \u001b[1m(\u001b[0m\u001b[1;36m643\u001b[0m, \u001b[1;36m643\u001b[0m\u001b[1m)\u001b[0m, Test: \u001b[1m(\u001b[0m\u001b[1;36m214\u001b[0m, \u001b[1;36m214\u001b[0m\u001b[1m)\u001b[0m\n"
      ]
     },
     "metadata": {},
     "output_type": "display_data"
    }
   ],
   "source": [
    "(train_size, eval_size, test_size) = download_dataset(\n",
    "    train_percent = 0.07, \n",
    "    eval_percent  = 0.03, \n",
    "    test_percent  = 0.01\n",
    ")"
   ]
  },
  {
   "cell_type": "markdown",
   "id": "8aa11bf0-50e1-43db-8ad2-6cf1c38a06f7",
   "metadata": {},
   "source": [
    "## Train Model"
   ]
  },
  {
   "cell_type": "code",
   "execution_count": 10,
   "id": "6473875f-54ff-4816-83d4-f7233e1f98af",
   "metadata": {
    "tags": []
   },
   "outputs": [],
   "source": [
    "params = Bunch(\n",
    "    train_path                  = 'dataset/train',\n",
    "    eval_path                   = 'dataset/eval',\n",
    "    test_path                   = 'dataset/test',\n",
    "    tokenizer_truncation        =  True,\n",
    "    checkpoints_path            = 'checkpoints', \n",
    "    model_name_or_path          = 't5-base',\n",
    "    tokenizer_name_or_path      = 't5-base',\n",
    "    max_seq_length              = 512,\n",
    "    lr                          = 0.0003,\n",
    "    accelerator                 = 'gpu',\n",
    "    val_check_interval          = train_size,\n",
    "    train_batch_size            = 2,\n",
    "    eval_batch_size             = 2,\n",
    "    test_batch_size             = 32,\n",
    "    epochs                      = 2,\n",
    "    gradient_accumulation_steps = 16,\n",
    "    # If you want to enable 16-bit training\n",
    "    # then install apex and set this to true\n",
    "    fp_16                       = False,\n",
    "    # If you enable 16-bit training then \n",
    "    # set this to a sensible value, 0.5 is a good default\n",
    "    gradient_clip_val           = 1.0\n",
    ")"
   ]
  },
  {
   "cell_type": "code",
   "execution_count": 11,
   "id": "993368ed-046a-4f21-a59e-ee051a96a63e",
   "metadata": {
    "tags": []
   },
   "outputs": [
    {
     "name": "stderr",
     "output_type": "stream",
     "text": [
      "You are using the default legacy behaviour of the <class 'transformers.models.t5.tokenization_t5.T5Tokenizer'>. This is expected, and simply means that the `legacy` (previous) behavior will be used so nothing changes for you. If you want to use the new behaviour, set `legacy=False`. This should only be set if you understand what it means, and thouroughly read the reason why this was added as explained in https://github.com/huggingface/transformers/pull/24565\n",
      "Special tokens have been added in the vocabulary, make sure the associated word embeddings are fine-tuned or trained.\n",
      "GPU available: True (cuda), used: True\n",
      "TPU available: False, using: 0 TPU cores\n",
      "IPU available: False, using: 0 IPUs\n",
      "HPU available: False, using: 0 HPUs\n"
     ]
    }
   ],
   "source": [
    "model = ml.T5(params)\n",
    "\n",
    "\n",
    "dl_builder = ml.T5DataLoaderBuilder(\n",
    "    model.tokenizer,\n",
    "    params,\n",
    "    get_dataset\n",
    ")\n",
    "\n",
    "fine_tunner = ml.T5FineTuner(model, dl_builder)\n",
    "\n",
    "trainer = pl.Trainer(\n",
    "    accumulate_grad_batches  = params.gradient_accumulation_steps,\n",
    "    accelerator              = params.accelerator,\n",
    "    max_epochs               = params.epochs,\n",
    "    precision                = 16 if params.fp_16 else 32,\n",
    "    gradient_clip_val        = params.gradient_clip_val,\n",
    "    val_check_interval       = params.val_check_interval,\n",
    "    callbacks                = [\n",
    "        ModelCheckpoint(\n",
    "            dirpath    = params.checkpoints_path,\n",
    "            monitor    = 'val_loss',\n",
    "            mode       = 'min',\n",
    "            save_top_k = 5\n",
    "        )\n",
    "    ]\n",
    ")"
   ]
  },
  {
   "cell_type": "code",
   "execution_count": 12,
   "id": "2ea89107-cef3-4f92-a742-8bb50b986344",
   "metadata": {
    "tags": []
   },
   "outputs": [
    {
     "name": "stderr",
     "output_type": "stream",
     "text": [
      "LOCAL_RANK: 0 - CUDA_VISIBLE_DEVICES: [0]\n",
      "\n",
      "  | Name  | Type | Params\n",
      "-------------------------------\n",
      "0 | model | T5   | 222 M \n",
      "-------------------------------\n",
      "222 M     Trainable params\n",
      "0         Non-trainable params\n",
      "222 M     Total params\n",
      "891.614   Total estimated model params size (MB)\n"
     ]
    },
    {
     "data": {
      "application/vnd.jupyter.widget-view+json": {
       "model_id": "",
       "version_major": 2,
       "version_minor": 0
      },
      "text/plain": [
       "Sanity Checking: |                                                                                            …"
      ]
     },
     "metadata": {},
     "output_type": "display_data"
    },
    {
     "data": {
      "application/vnd.jupyter.widget-view+json": {
       "model_id": "705821519b514bc1bcc15c9931608ab5",
       "version_major": 2,
       "version_minor": 0
      },
      "text/plain": [
       "Training: |                                                                                                   …"
      ]
     },
     "metadata": {},
     "output_type": "display_data"
    },
    {
     "data": {
      "application/vnd.jupyter.widget-view+json": {
       "model_id": "",
       "version_major": 2,
       "version_minor": 0
      },
      "text/plain": [
       "Validation: |                                                                                                 …"
      ]
     },
     "metadata": {},
     "output_type": "display_data"
    },
    {
     "data": {
      "application/vnd.jupyter.widget-view+json": {
       "model_id": "",
       "version_major": 2,
       "version_minor": 0
      },
      "text/plain": [
       "Validation: |                                                                                                 …"
      ]
     },
     "metadata": {},
     "output_type": "display_data"
    },
    {
     "name": "stderr",
     "output_type": "stream",
     "text": [
      "`Trainer.fit` stopped: `max_epochs=2` reached.\n"
     ]
    }
   ],
   "source": [
    "trainer.fit(fine_tunner)"
   ]
  },
  {
   "cell_type": "markdown",
   "id": "d560f546-9000-4f5c-94ab-abd10238f46e",
   "metadata": {},
   "source": [
    "## Evaluate Model"
   ]
  },
  {
   "cell_type": "code",
   "execution_count": 13,
   "id": "9da57c1c-0b56-4199-a5d2-19c93057bc41",
   "metadata": {},
   "outputs": [],
   "source": [
    "batch = next(iter(dl_builder.test()))\n",
    "\n",
    "texts       = model.decode(batch['source_ids'])\n",
    "predictions = model.predict(batch)\n",
    "targets     = model.decode(batch['target_ids'])"
   ]
  },
  {
   "cell_type": "code",
   "execution_count": 14,
   "id": "d8b3c79a-6ce3-47fa-ad18-46f793bc33c4",
   "metadata": {
    "tags": []
   },
   "outputs": [
    {
     "data": {
      "text/html": [
       "<pre style=\"white-space:pre;overflow-x:auto;line-height:normal;font-family:Menlo,'DejaVu Sans Mono',consolas,'Courier New',monospace\">Review: I wanted to see this movie ever since the previews came out I dont\n",
       "understand why everyone is so hard on this film It may not all be technically\n",
       "true to the sport of rugby but this film is not mainly about the sport Its about\n",
       "a rugby team that is taught how to be more than the world expects of them They\n",
       "are taught to become men and not temporally vain boys Hollywood is never <span style=\"color: #008080; text-decoration-color: #008080; font-weight: bold\">100</span>%\n",
       "correct in their productions They are there to make a product that sells\n",
       "Something entertaining The story of Coach Gelwix and what he has taught over the\n",
       "years is simply amazing He teaches about service honor integrity and moral\n",
       "cleanliness How many other movies are teaching that to our youth these days I\n",
       "was proud to see such an amazing story that taught reverence and respect\n",
       "</pre>\n"
      ],
      "text/plain": [
       "Review: I wanted to see this movie ever since the previews came out I dont\n",
       "understand why everyone is so hard on this film It may not all be technically\n",
       "true to the sport of rugby but this film is not mainly about the sport Its about\n",
       "a rugby team that is taught how to be more than the world expects of them They\n",
       "are taught to become men and not temporally vain boys Hollywood is never \u001b[1;36m100\u001b[0m%\n",
       "correct in their productions They are there to make a product that sells\n",
       "Something entertaining The story of Coach Gelwix and what he has taught over the\n",
       "years is simply amazing He teaches about service honor integrity and moral\n",
       "cleanliness How many other movies are teaching that to our youth these days I\n",
       "was proud to see such an amazing story that taught reverence and respect\n"
      ]
     },
     "metadata": {},
     "output_type": "display_data"
    },
    {
     "data": {
      "text/html": [
       "<pre style=\"white-space:pre;overflow-x:auto;line-height:normal;font-family:Menlo,'DejaVu Sans Mono',consolas,'Courier New',monospace\">\n",
       "Actual sentiment: positive\n",
       "</pre>\n"
      ],
      "text/plain": [
       "\n",
       "Actual sentiment: positive\n"
      ]
     },
     "metadata": {},
     "output_type": "display_data"
    },
    {
     "data": {
      "text/html": [
       "<pre style=\"white-space:pre;overflow-x:auto;line-height:normal;font-family:Menlo,'DejaVu Sans Mono',consolas,'Courier New',monospace\">Predicted sentiment: positive\n",
       "</pre>\n"
      ],
      "text/plain": [
       "Predicted sentiment: positive\n"
      ]
     },
     "metadata": {},
     "output_type": "display_data"
    },
    {
     "data": {
      "text/html": [
       "<pre style=\"white-space:pre;overflow-x:auto;line-height:normal;font-family:Menlo,'DejaVu Sans Mono',consolas,'Courier New',monospace\">================================================================================\n",
       "\n",
       "</pre>\n"
      ],
      "text/plain": [
       "================================================================================\n",
       "\n"
      ]
     },
     "metadata": {},
     "output_type": "display_data"
    },
    {
     "data": {
      "text/html": [
       "<pre style=\"white-space:pre;overflow-x:auto;line-height:normal;font-family:Menlo,'DejaVu Sans Mono',consolas,'Courier New',monospace\">Review: The theme is controversial and the depiction of the hypocritical and\n",
       "sexually starved india is excellentNothing more to this filmThere is a lack of\n",
       "good dialogueswhy was the movie in english There was lack of continuity and lack\n",
       "of passionemotion in the acting\n",
       "</pre>\n"
      ],
      "text/plain": [
       "Review: The theme is controversial and the depiction of the hypocritical and\n",
       "sexually starved india is excellentNothing more to this filmThere is a lack of\n",
       "good dialogueswhy was the movie in english There was lack of continuity and lack\n",
       "of passionemotion in the acting\n"
      ]
     },
     "metadata": {},
     "output_type": "display_data"
    },
    {
     "data": {
      "text/html": [
       "<pre style=\"white-space:pre;overflow-x:auto;line-height:normal;font-family:Menlo,'DejaVu Sans Mono',consolas,'Courier New',monospace\">\n",
       "Actual sentiment: positive\n",
       "</pre>\n"
      ],
      "text/plain": [
       "\n",
       "Actual sentiment: positive\n"
      ]
     },
     "metadata": {},
     "output_type": "display_data"
    },
    {
     "data": {
      "text/html": [
       "<pre style=\"white-space:pre;overflow-x:auto;line-height:normal;font-family:Menlo,'DejaVu Sans Mono',consolas,'Courier New',monospace\">Predicted sentiment: negative\n",
       "</pre>\n"
      ],
      "text/plain": [
       "Predicted sentiment: negative\n"
      ]
     },
     "metadata": {},
     "output_type": "display_data"
    },
    {
     "data": {
      "text/html": [
       "<pre style=\"white-space:pre;overflow-x:auto;line-height:normal;font-family:Menlo,'DejaVu Sans Mono',consolas,'Courier New',monospace\">================================================================================\n",
       "\n",
       "</pre>\n"
      ],
      "text/plain": [
       "================================================================================\n",
       "\n"
      ]
     },
     "metadata": {},
     "output_type": "display_data"
    },
    {
     "data": {
      "text/html": [
       "<pre style=\"white-space:pre;overflow-x:auto;line-height:normal;font-family:Menlo,'DejaVu Sans Mono',consolas,'Courier New',monospace\">Review: Amazing documentary Saw it on original airdate and on DVD a few times in\n",
       "the last few years I was shocked that it wasnt even nominated for a Best\n",
       "Documentary Oscar for <span style=\"color: #008080; text-decoration-color: #008080; font-weight: bold\">2002</span> the year it was released No other documentary even\n",
       "comes closeIt was on TV recently for the 5th anniversary but I missed the added\n",
       "where are they now segment at the end except I did catch that tony now works for\n",
       "the hazmat unitIve seen criticism on documentary filmmaking from a few on this\n",
       "list I cant see how this could have been done any different They had less than <span style=\"color: #008080; text-decoration-color: #008080; font-weight: bold\">6</span>\n",
       "months to assemble this and get it on the air The DVD contains more material and\n",
       "backgroundIm also surprised that according to IMDbcom the brother have had no\n",
       "projects in the four years since What have they been doing\n",
       "</pre>\n"
      ],
      "text/plain": [
       "Review: Amazing documentary Saw it on original airdate and on DVD a few times in\n",
       "the last few years I was shocked that it wasnt even nominated for a Best\n",
       "Documentary Oscar for \u001b[1;36m2002\u001b[0m the year it was released No other documentary even\n",
       "comes closeIt was on TV recently for the 5th anniversary but I missed the added\n",
       "where are they now segment at the end except I did catch that tony now works for\n",
       "the hazmat unitIve seen criticism on documentary filmmaking from a few on this\n",
       "list I cant see how this could have been done any different They had less than \u001b[1;36m6\u001b[0m\n",
       "months to assemble this and get it on the air The DVD contains more material and\n",
       "backgroundIm also surprised that according to IMDbcom the brother have had no\n",
       "projects in the four years since What have they been doing\n"
      ]
     },
     "metadata": {},
     "output_type": "display_data"
    },
    {
     "data": {
      "text/html": [
       "<pre style=\"white-space:pre;overflow-x:auto;line-height:normal;font-family:Menlo,'DejaVu Sans Mono',consolas,'Courier New',monospace\">\n",
       "Actual sentiment: positive\n",
       "</pre>\n"
      ],
      "text/plain": [
       "\n",
       "Actual sentiment: positive\n"
      ]
     },
     "metadata": {},
     "output_type": "display_data"
    },
    {
     "data": {
      "text/html": [
       "<pre style=\"white-space:pre;overflow-x:auto;line-height:normal;font-family:Menlo,'DejaVu Sans Mono',consolas,'Courier New',monospace\">Predicted sentiment: positive\n",
       "</pre>\n"
      ],
      "text/plain": [
       "Predicted sentiment: positive\n"
      ]
     },
     "metadata": {},
     "output_type": "display_data"
    },
    {
     "data": {
      "text/html": [
       "<pre style=\"white-space:pre;overflow-x:auto;line-height:normal;font-family:Menlo,'DejaVu Sans Mono',consolas,'Courier New',monospace\">================================================================================\n",
       "\n",
       "</pre>\n"
      ],
      "text/plain": [
       "================================================================================\n",
       "\n"
      ]
     },
     "metadata": {},
     "output_type": "display_data"
    },
    {
     "data": {
      "text/html": [
       "<pre style=\"white-space:pre;overflow-x:auto;line-height:normal;font-family:Menlo,'DejaVu Sans Mono',consolas,'Courier New',monospace\">Review: I bought this movie from Gamestops discount used movie bin and the cover\n",
       "caused me to laugh uncontrollably so I bought it for 99cents The movie itself is\n",
       "retarded and they use like ten different monkeys throughout the whole film that\n",
       "hardly look alike Not to mention they use a stunt double who is just a short guy\n",
       "in costume making a desperate attempt to impersonate a monkeyThe director more\n",
       "than likely committed a murdersuicide with the chimpanzees after the movie\n",
       "debuted in a preview for some other low rent Warner Bros film and he ended up\n",
       "owing money to the studio It also doesnt help that he wasnt even infamous for\n",
       "the terrible job he did he wasnt even known for producing a poopchute filmWhy\n",
       "was this movie ever made\n",
       "</pre>\n"
      ],
      "text/plain": [
       "Review: I bought this movie from Gamestops discount used movie bin and the cover\n",
       "caused me to laugh uncontrollably so I bought it for 99cents The movie itself is\n",
       "retarded and they use like ten different monkeys throughout the whole film that\n",
       "hardly look alike Not to mention they use a stunt double who is just a short guy\n",
       "in costume making a desperate attempt to impersonate a monkeyThe director more\n",
       "than likely committed a murdersuicide with the chimpanzees after the movie\n",
       "debuted in a preview for some other low rent Warner Bros film and he ended up\n",
       "owing money to the studio It also doesnt help that he wasnt even infamous for\n",
       "the terrible job he did he wasnt even known for producing a poopchute filmWhy\n",
       "was this movie ever made\n"
      ]
     },
     "metadata": {},
     "output_type": "display_data"
    },
    {
     "data": {
      "text/html": [
       "<pre style=\"white-space:pre;overflow-x:auto;line-height:normal;font-family:Menlo,'DejaVu Sans Mono',consolas,'Courier New',monospace\">\n",
       "Actual sentiment: negative\n",
       "</pre>\n"
      ],
      "text/plain": [
       "\n",
       "Actual sentiment: negative\n"
      ]
     },
     "metadata": {},
     "output_type": "display_data"
    },
    {
     "data": {
      "text/html": [
       "<pre style=\"white-space:pre;overflow-x:auto;line-height:normal;font-family:Menlo,'DejaVu Sans Mono',consolas,'Courier New',monospace\">Predicted sentiment: negative\n",
       "</pre>\n"
      ],
      "text/plain": [
       "Predicted sentiment: negative\n"
      ]
     },
     "metadata": {},
     "output_type": "display_data"
    },
    {
     "data": {
      "text/html": [
       "<pre style=\"white-space:pre;overflow-x:auto;line-height:normal;font-family:Menlo,'DejaVu Sans Mono',consolas,'Courier New',monospace\">================================================================================\n",
       "\n",
       "</pre>\n"
      ],
      "text/plain": [
       "================================================================================\n",
       "\n"
      ]
     },
     "metadata": {},
     "output_type": "display_data"
    },
    {
     "data": {
      "text/html": [
       "<pre style=\"white-space:pre;overflow-x:auto;line-height:normal;font-family:Menlo,'DejaVu Sans Mono',consolas,'Courier New',monospace\">Review: Its a pretty good cast but the film has nowhere near the grace of the\n",
       "original Italian comedy Big Deal on Madonna Street Anyone looking for an\n",
       "entertaining caper film should visit the original William Macy may be one of our\n",
       "greatest living actors but here hes put to little use And his role in the\n",
       "original was played by Marcello Mastroianni so I sort of feel sorry for him\n",
       "trying to fill those shoes Might as well try to imitate Bogart or a young De\n",
       "Niro The art direction is rich and textured but brings nothing to the story the\n",
       "extra bits they add to the story feel completely unnecessary and the things they\n",
       "take away are missed Even starting the way they do seems bizarrely gratuitous\n",
       "and takes away from the surprise of the original Sam Rockwell has his odd and\n",
       "genial charm and Luis Guzman has that odd charisma but the love story part of\n",
       "the movie just seems clunky and flat Its too bad nobody has figured out how to\n",
       "make this movie as well as it was first made but then again its too bad we live\n",
       "in a culture where we feel like we need to remake amazing things instead of\n",
       "simply learning to savor the originals\n",
       "</pre>\n"
      ],
      "text/plain": [
       "Review: Its a pretty good cast but the film has nowhere near the grace of the\n",
       "original Italian comedy Big Deal on Madonna Street Anyone looking for an\n",
       "entertaining caper film should visit the original William Macy may be one of our\n",
       "greatest living actors but here hes put to little use And his role in the\n",
       "original was played by Marcello Mastroianni so I sort of feel sorry for him\n",
       "trying to fill those shoes Might as well try to imitate Bogart or a young De\n",
       "Niro The art direction is rich and textured but brings nothing to the story the\n",
       "extra bits they add to the story feel completely unnecessary and the things they\n",
       "take away are missed Even starting the way they do seems bizarrely gratuitous\n",
       "and takes away from the surprise of the original Sam Rockwell has his odd and\n",
       "genial charm and Luis Guzman has that odd charisma but the love story part of\n",
       "the movie just seems clunky and flat Its too bad nobody has figured out how to\n",
       "make this movie as well as it was first made but then again its too bad we live\n",
       "in a culture where we feel like we need to remake amazing things instead of\n",
       "simply learning to savor the originals\n"
      ]
     },
     "metadata": {},
     "output_type": "display_data"
    },
    {
     "data": {
      "text/html": [
       "<pre style=\"white-space:pre;overflow-x:auto;line-height:normal;font-family:Menlo,'DejaVu Sans Mono',consolas,'Courier New',monospace\">\n",
       "Actual sentiment: negative\n",
       "</pre>\n"
      ],
      "text/plain": [
       "\n",
       "Actual sentiment: negative\n"
      ]
     },
     "metadata": {},
     "output_type": "display_data"
    },
    {
     "data": {
      "text/html": [
       "<pre style=\"white-space:pre;overflow-x:auto;line-height:normal;font-family:Menlo,'DejaVu Sans Mono',consolas,'Courier New',monospace\">Predicted sentiment: negative\n",
       "</pre>\n"
      ],
      "text/plain": [
       "Predicted sentiment: negative\n"
      ]
     },
     "metadata": {},
     "output_type": "display_data"
    },
    {
     "data": {
      "text/html": [
       "<pre style=\"white-space:pre;overflow-x:auto;line-height:normal;font-family:Menlo,'DejaVu Sans Mono',consolas,'Courier New',monospace\">================================================================================\n",
       "\n",
       "</pre>\n"
      ],
      "text/plain": [
       "================================================================================\n",
       "\n"
      ]
     },
     "metadata": {},
     "output_type": "display_data"
    },
    {
     "data": {
      "text/html": [
       "<pre style=\"white-space:pre;overflow-x:auto;line-height:normal;font-family:Menlo,'DejaVu Sans Mono',consolas,'Courier New',monospace\">Review: Its difficult to decide who or what is the target audience for this film\n",
       "JeanPierre Limousin presumably had the chance to explore the problems of amnesia\n",
       "on a serious level and opted instead to use it as an excuse to make a softporn\n",
       "movie Having seen loved admired and respected Se Souvenir des belles choses\n",
       "which explores memory loss albeit as the result of Alzheimers in a profound and\n",
       "heartbreaking way not least in the luminous performance of Isabelle Carre I find\n",
       "that Novo is an insult to Se Souvenirs I have no problem with soft porn per se\n",
       "and even if I had Id virtually have to give up going to movies so prevalent is\n",
       "it today but I do have a problem with writersdirectors who attempt to\n",
       "respectablise it by cloaking it as here in the guise of medical research The sad\n",
       "thing is that fine actresses like Julie Gayet so wonderful in Clara et Moi and\n",
       "Anna Mouglalis who seems to have hit into a double play after last weeks Le\n",
       "Deluge and now this are wasting their time on dross like this\n",
       "</pre>\n"
      ],
      "text/plain": [
       "Review: Its difficult to decide who or what is the target audience for this film\n",
       "JeanPierre Limousin presumably had the chance to explore the problems of amnesia\n",
       "on a serious level and opted instead to use it as an excuse to make a softporn\n",
       "movie Having seen loved admired and respected Se Souvenir des belles choses\n",
       "which explores memory loss albeit as the result of Alzheimers in a profound and\n",
       "heartbreaking way not least in the luminous performance of Isabelle Carre I find\n",
       "that Novo is an insult to Se Souvenirs I have no problem with soft porn per se\n",
       "and even if I had Id virtually have to give up going to movies so prevalent is\n",
       "it today but I do have a problem with writersdirectors who attempt to\n",
       "respectablise it by cloaking it as here in the guise of medical research The sad\n",
       "thing is that fine actresses like Julie Gayet so wonderful in Clara et Moi and\n",
       "Anna Mouglalis who seems to have hit into a double play after last weeks Le\n",
       "Deluge and now this are wasting their time on dross like this\n"
      ]
     },
     "metadata": {},
     "output_type": "display_data"
    },
    {
     "data": {
      "text/html": [
       "<pre style=\"white-space:pre;overflow-x:auto;line-height:normal;font-family:Menlo,'DejaVu Sans Mono',consolas,'Courier New',monospace\">\n",
       "Actual sentiment: negative\n",
       "</pre>\n"
      ],
      "text/plain": [
       "\n",
       "Actual sentiment: negative\n"
      ]
     },
     "metadata": {},
     "output_type": "display_data"
    },
    {
     "data": {
      "text/html": [
       "<pre style=\"white-space:pre;overflow-x:auto;line-height:normal;font-family:Menlo,'DejaVu Sans Mono',consolas,'Courier New',monospace\">Predicted sentiment: negative\n",
       "</pre>\n"
      ],
      "text/plain": [
       "Predicted sentiment: negative\n"
      ]
     },
     "metadata": {},
     "output_type": "display_data"
    },
    {
     "data": {
      "text/html": [
       "<pre style=\"white-space:pre;overflow-x:auto;line-height:normal;font-family:Menlo,'DejaVu Sans Mono',consolas,'Courier New',monospace\">================================================================================\n",
       "\n",
       "</pre>\n"
      ],
      "text/plain": [
       "================================================================================\n",
       "\n"
      ]
     },
     "metadata": {},
     "output_type": "display_data"
    },
    {
     "data": {
      "text/html": [
       "<pre style=\"white-space:pre;overflow-x:auto;line-height:normal;font-family:Menlo,'DejaVu Sans Mono',consolas,'Courier New',monospace\">Review: This movie was sooooooo sloooow And everything in it was bland the\n",
       "acting the plotetc It was such a disappointment since the description looked so\n",
       "good Do not be fooled This movie is not worth the time it takes to watch it\n",
       "</pre>\n"
      ],
      "text/plain": [
       "Review: This movie was sooooooo sloooow And everything in it was bland the\n",
       "acting the plotetc It was such a disappointment since the description looked so\n",
       "good Do not be fooled This movie is not worth the time it takes to watch it\n"
      ]
     },
     "metadata": {},
     "output_type": "display_data"
    },
    {
     "data": {
      "text/html": [
       "<pre style=\"white-space:pre;overflow-x:auto;line-height:normal;font-family:Menlo,'DejaVu Sans Mono',consolas,'Courier New',monospace\">\n",
       "Actual sentiment: negative\n",
       "</pre>\n"
      ],
      "text/plain": [
       "\n",
       "Actual sentiment: negative\n"
      ]
     },
     "metadata": {},
     "output_type": "display_data"
    },
    {
     "data": {
      "text/html": [
       "<pre style=\"white-space:pre;overflow-x:auto;line-height:normal;font-family:Menlo,'DejaVu Sans Mono',consolas,'Courier New',monospace\">Predicted sentiment: negative\n",
       "</pre>\n"
      ],
      "text/plain": [
       "Predicted sentiment: negative\n"
      ]
     },
     "metadata": {},
     "output_type": "display_data"
    },
    {
     "data": {
      "text/html": [
       "<pre style=\"white-space:pre;overflow-x:auto;line-height:normal;font-family:Menlo,'DejaVu Sans Mono',consolas,'Courier New',monospace\">================================================================================\n",
       "\n",
       "</pre>\n"
      ],
      "text/plain": [
       "================================================================================\n",
       "\n"
      ]
     },
     "metadata": {},
     "output_type": "display_data"
    },
    {
     "data": {
      "text/html": [
       "<pre style=\"white-space:pre;overflow-x:auto;line-height:normal;font-family:Menlo,'DejaVu Sans Mono',consolas,'Courier New',monospace\">Review: Probably my alltime favorite movie a story of selflessness sacrifice and\n",
       "dedication to a noble cause but its not preachy or boring It just never gets old\n",
       "despite my having seen it some <span style=\"color: #008080; text-decoration-color: #008080; font-weight: bold\">15</span> or more times in the last <span style=\"color: #008080; text-decoration-color: #008080; font-weight: bold\">25</span> years Paul Lukas\n",
       "performance brings tears to my eyes and Bette Davis in one of her very few truly\n",
       "sympathetic roles is a delight The kids are as grandma says more like dressedup\n",
       "midgets than children but that only makes them more fun to watch And the mothers\n",
       "slow awakening to whats happening in the world and under her own roof is\n",
       "believable and startling If I had a dozen thumbs theyd all be up for this movie\n",
       "</pre>\n"
      ],
      "text/plain": [
       "Review: Probably my alltime favorite movie a story of selflessness sacrifice and\n",
       "dedication to a noble cause but its not preachy or boring It just never gets old\n",
       "despite my having seen it some \u001b[1;36m15\u001b[0m or more times in the last \u001b[1;36m25\u001b[0m years Paul Lukas\n",
       "performance brings tears to my eyes and Bette Davis in one of her very few truly\n",
       "sympathetic roles is a delight The kids are as grandma says more like dressedup\n",
       "midgets than children but that only makes them more fun to watch And the mothers\n",
       "slow awakening to whats happening in the world and under her own roof is\n",
       "believable and startling If I had a dozen thumbs theyd all be up for this movie\n"
      ]
     },
     "metadata": {},
     "output_type": "display_data"
    },
    {
     "data": {
      "text/html": [
       "<pre style=\"white-space:pre;overflow-x:auto;line-height:normal;font-family:Menlo,'DejaVu Sans Mono',consolas,'Courier New',monospace\">\n",
       "Actual sentiment: positive\n",
       "</pre>\n"
      ],
      "text/plain": [
       "\n",
       "Actual sentiment: positive\n"
      ]
     },
     "metadata": {},
     "output_type": "display_data"
    },
    {
     "data": {
      "text/html": [
       "<pre style=\"white-space:pre;overflow-x:auto;line-height:normal;font-family:Menlo,'DejaVu Sans Mono',consolas,'Courier New',monospace\">Predicted sentiment: positive\n",
       "</pre>\n"
      ],
      "text/plain": [
       "Predicted sentiment: positive\n"
      ]
     },
     "metadata": {},
     "output_type": "display_data"
    },
    {
     "data": {
      "text/html": [
       "<pre style=\"white-space:pre;overflow-x:auto;line-height:normal;font-family:Menlo,'DejaVu Sans Mono',consolas,'Courier New',monospace\">================================================================================\n",
       "\n",
       "</pre>\n"
      ],
      "text/plain": [
       "================================================================================\n",
       "\n"
      ]
     },
     "metadata": {},
     "output_type": "display_data"
    },
    {
     "data": {
      "text/html": [
       "<pre style=\"white-space:pre;overflow-x:auto;line-height:normal;font-family:Menlo,'DejaVu Sans Mono',consolas,'Courier New',monospace\">Review: I watched the first few episodes a short while back and felt I couldnt\n",
       "take it anymore The horrible looking fight scenes are the worst Ive ever scene\n",
       "in my life About onethird of each episode is dedicated to Flash Gordon and his\n",
       "mighty fight moves I know fight choreography from that era isnt exactly up to\n",
       "par with todays standards but this is ridiculous They dont even try to make it\n",
       "look realistic Flash Gordon who hardly resembles a fighter uses his drunken slow\n",
       "moves and bare fist to knock out four or five guys with knives guns and other\n",
       "weapons Give me a break Theres also a scene where he does some similar act while\n",
       "in the water Basically every episode has scenes similar to that As for the rest\n",
       "of the episode theres not much else I remember I basically viewed it out of\n",
       "curiosity on what science fiction looked like <span style=\"color: #008080; text-decoration-color: #008080; font-weight: bold\">70</span> years ago\n",
       "</pre>\n"
      ],
      "text/plain": [
       "Review: I watched the first few episodes a short while back and felt I couldnt\n",
       "take it anymore The horrible looking fight scenes are the worst Ive ever scene\n",
       "in my life About onethird of each episode is dedicated to Flash Gordon and his\n",
       "mighty fight moves I know fight choreography from that era isnt exactly up to\n",
       "par with todays standards but this is ridiculous They dont even try to make it\n",
       "look realistic Flash Gordon who hardly resembles a fighter uses his drunken slow\n",
       "moves and bare fist to knock out four or five guys with knives guns and other\n",
       "weapons Give me a break Theres also a scene where he does some similar act while\n",
       "in the water Basically every episode has scenes similar to that As for the rest\n",
       "of the episode theres not much else I remember I basically viewed it out of\n",
       "curiosity on what science fiction looked like \u001b[1;36m70\u001b[0m years ago\n"
      ]
     },
     "metadata": {},
     "output_type": "display_data"
    },
    {
     "data": {
      "text/html": [
       "<pre style=\"white-space:pre;overflow-x:auto;line-height:normal;font-family:Menlo,'DejaVu Sans Mono',consolas,'Courier New',monospace\">\n",
       "Actual sentiment: negative\n",
       "</pre>\n"
      ],
      "text/plain": [
       "\n",
       "Actual sentiment: negative\n"
      ]
     },
     "metadata": {},
     "output_type": "display_data"
    },
    {
     "data": {
      "text/html": [
       "<pre style=\"white-space:pre;overflow-x:auto;line-height:normal;font-family:Menlo,'DejaVu Sans Mono',consolas,'Courier New',monospace\">Predicted sentiment: negative\n",
       "</pre>\n"
      ],
      "text/plain": [
       "Predicted sentiment: negative\n"
      ]
     },
     "metadata": {},
     "output_type": "display_data"
    },
    {
     "data": {
      "text/html": [
       "<pre style=\"white-space:pre;overflow-x:auto;line-height:normal;font-family:Menlo,'DejaVu Sans Mono',consolas,'Courier New',monospace\">================================================================================\n",
       "\n",
       "</pre>\n"
      ],
      "text/plain": [
       "================================================================================\n",
       "\n"
      ]
     },
     "metadata": {},
     "output_type": "display_data"
    },
    {
     "data": {
      "text/html": [
       "<pre style=\"white-space:pre;overflow-x:auto;line-height:normal;font-family:Menlo,'DejaVu Sans Mono',consolas,'Courier New',monospace\">Review: I love the comics Although I do have problems fully understanding the\n",
       "stories  the visual style is unique with all its dirt dust and decay So I\n",
       "thought I knew what I was up for Surprisingly I understood the main plot  but\n",
       "some extremely poorly decisions where made for its visual style I mean really\n",
       "bad looking CG human actorsin close ups  Why It did not work at all Horus and\n",
       "the other Egyption gods was successfully made in CG and very close to the comic\n",
       "version I think with real actors this movie could have been a cult movie What a\n",
       "shame\n",
       "</pre>\n"
      ],
      "text/plain": [
       "Review: I love the comics Although I do have problems fully understanding the\n",
       "stories  the visual style is unique with all its dirt dust and decay So I\n",
       "thought I knew what I was up for Surprisingly I understood the main plot  but\n",
       "some extremely poorly decisions where made for its visual style I mean really\n",
       "bad looking CG human actorsin close ups  Why It did not work at all Horus and\n",
       "the other Egyption gods was successfully made in CG and very close to the comic\n",
       "version I think with real actors this movie could have been a cult movie What a\n",
       "shame\n"
      ]
     },
     "metadata": {},
     "output_type": "display_data"
    },
    {
     "data": {
      "text/html": [
       "<pre style=\"white-space:pre;overflow-x:auto;line-height:normal;font-family:Menlo,'DejaVu Sans Mono',consolas,'Courier New',monospace\">\n",
       "Actual sentiment: negative\n",
       "</pre>\n"
      ],
      "text/plain": [
       "\n",
       "Actual sentiment: negative\n"
      ]
     },
     "metadata": {},
     "output_type": "display_data"
    },
    {
     "data": {
      "text/html": [
       "<pre style=\"white-space:pre;overflow-x:auto;line-height:normal;font-family:Menlo,'DejaVu Sans Mono',consolas,'Courier New',monospace\">Predicted sentiment: negative\n",
       "</pre>\n"
      ],
      "text/plain": [
       "Predicted sentiment: negative\n"
      ]
     },
     "metadata": {},
     "output_type": "display_data"
    },
    {
     "data": {
      "text/html": [
       "<pre style=\"white-space:pre;overflow-x:auto;line-height:normal;font-family:Menlo,'DejaVu Sans Mono',consolas,'Courier New',monospace\">================================================================================\n",
       "\n",
       "</pre>\n"
      ],
      "text/plain": [
       "================================================================================\n",
       "\n"
      ]
     },
     "metadata": {},
     "output_type": "display_data"
    },
    {
     "data": {
      "text/html": [
       "<pre style=\"white-space:pre;overflow-x:auto;line-height:normal;font-family:Menlo,'DejaVu Sans Mono',consolas,'Courier New',monospace\">Review: I saw the film for the first time at BBC on July the <span style=\"color: #008080; text-decoration-color: #008080; font-weight: bold\">27</span> of <span style=\"color: #008080; text-decoration-color: #008080; font-weight: bold\">2005</span> For me\n",
       "it was a good interpretation of the person Conan Doyleand I truly wonder what\n",
       "the sherlock fans think about it I also think it is a movie for these fans\n",
       "whether they agree or not what is mentionedYou may ask yourself was AC Doyle a\n",
       "strong person or did he put himself in question However he was the creator of\n",
       "the famous Holmesbut how much of it was a sort of semibiography Not the less I\n",
       "strongly put this adaption forward it is a movie you have to see even if you\n",
       "arent interested in the Sherlock Holmes movies or books look a it enjoy yourself\n",
       "and have your own opinion of it\n",
       "</pre>\n"
      ],
      "text/plain": [
       "Review: I saw the film for the first time at BBC on July the \u001b[1;36m27\u001b[0m of \u001b[1;36m2005\u001b[0m For me\n",
       "it was a good interpretation of the person Conan Doyleand I truly wonder what\n",
       "the sherlock fans think about it I also think it is a movie for these fans\n",
       "whether they agree or not what is mentionedYou may ask yourself was AC Doyle a\n",
       "strong person or did he put himself in question However he was the creator of\n",
       "the famous Holmesbut how much of it was a sort of semibiography Not the less I\n",
       "strongly put this adaption forward it is a movie you have to see even if you\n",
       "arent interested in the Sherlock Holmes movies or books look a it enjoy yourself\n",
       "and have your own opinion of it\n"
      ]
     },
     "metadata": {},
     "output_type": "display_data"
    },
    {
     "data": {
      "text/html": [
       "<pre style=\"white-space:pre;overflow-x:auto;line-height:normal;font-family:Menlo,'DejaVu Sans Mono',consolas,'Courier New',monospace\">\n",
       "Actual sentiment: positive\n",
       "</pre>\n"
      ],
      "text/plain": [
       "\n",
       "Actual sentiment: positive\n"
      ]
     },
     "metadata": {},
     "output_type": "display_data"
    },
    {
     "data": {
      "text/html": [
       "<pre style=\"white-space:pre;overflow-x:auto;line-height:normal;font-family:Menlo,'DejaVu Sans Mono',consolas,'Courier New',monospace\">Predicted sentiment: positive\n",
       "</pre>\n"
      ],
      "text/plain": [
       "Predicted sentiment: positive\n"
      ]
     },
     "metadata": {},
     "output_type": "display_data"
    },
    {
     "data": {
      "text/html": [
       "<pre style=\"white-space:pre;overflow-x:auto;line-height:normal;font-family:Menlo,'DejaVu Sans Mono',consolas,'Courier New',monospace\">================================================================================\n",
       "\n",
       "</pre>\n"
      ],
      "text/plain": [
       "================================================================================\n",
       "\n"
      ]
     },
     "metadata": {},
     "output_type": "display_data"
    },
    {
     "data": {
      "text/html": [
       "<pre style=\"white-space:pre;overflow-x:auto;line-height:normal;font-family:Menlo,'DejaVu Sans Mono',consolas,'Courier New',monospace\">Review: A simple and effective film about what life is all about responding to\n",
       "challenges It took a lot of gall for Homer and his friends to be able to grow\n",
       "into manhood without falling in the trap of a prefabricated future that runs\n",
       "from father to son to be a miner in the local mine and never get out of that\n",
       "fate It took also three different challenges for Homer and his friends to\n",
       "conquer a personal and free future The challenge of the first ever manmade\n",
       "artificial satellite Sputnik <span style=\"color: #008080; text-decoration-color: #008080; font-weight: bold\">1</span> a Soviet satellite a milestone in human history a\n",
       "turning point that Homer and his friends could not miss did not want to miss\n",
       "Then the challenge of science and applied mechanics to calculate and to devise a\n",
       "rocket from scratch or rather from what they could gather in books and order in\n",
       "their minds Finally the challenge of a world that resists and refuses and tries\n",
       "to force you back into the pack even with an untimely accident that forces you\n",
       "to get back into the pack for plain survival necessity and even then Homer\n",
       "proved he had the guts to accept the challenge that was blocking for a while his\n",
       "own plans and dreams But there is another side of the story that the film does\n",
       "not emphasize enough Homer is the carrier of the project but he is also the\n",
       "carrier of the inspiration he and his friends need If he is the one who is going\n",
       "to get the university scholarship because his friends gave him precedence his\n",
       "friends will also be able to get on their own roads and tracks and step out of\n",
       "the mining fate thanks to the energy his inspiring example sets in front of\n",
       "their eyes It is hard at times not to follow the example of the one who is like\n",
       "a beacon on a difficult road But the film is also effective to show how the\n",
       "father resisted this dream because for him science was not the fabric of a true\n",
       "man like mining or football The working class fate that was so present in those\n",
       "1950s and 1960s and still is present in some areas is too often enforced by the\n",
       "traditional thinking of the father If the mother does not have the courage to\n",
       "speak up one day the working class fate I am speaking of becomes a tremendous\n",
       "trap Here too the film is effective and it should make some parents think This\n",
       "might have been the fourth challenge Homer had to face the challenge of taking a\n",
       "road that was not the one pointed at and programmed by his own fatherDr Jacques\n",
       "COULARDEAU University Paris Dauphine\n",
       "</pre>\n"
      ],
      "text/plain": [
       "Review: A simple and effective film about what life is all about responding to\n",
       "challenges It took a lot of gall for Homer and his friends to be able to grow\n",
       "into manhood without falling in the trap of a prefabricated future that runs\n",
       "from father to son to be a miner in the local mine and never get out of that\n",
       "fate It took also three different challenges for Homer and his friends to\n",
       "conquer a personal and free future The challenge of the first ever manmade\n",
       "artificial satellite Sputnik \u001b[1;36m1\u001b[0m a Soviet satellite a milestone in human history a\n",
       "turning point that Homer and his friends could not miss did not want to miss\n",
       "Then the challenge of science and applied mechanics to calculate and to devise a\n",
       "rocket from scratch or rather from what they could gather in books and order in\n",
       "their minds Finally the challenge of a world that resists and refuses and tries\n",
       "to force you back into the pack even with an untimely accident that forces you\n",
       "to get back into the pack for plain survival necessity and even then Homer\n",
       "proved he had the guts to accept the challenge that was blocking for a while his\n",
       "own plans and dreams But there is another side of the story that the film does\n",
       "not emphasize enough Homer is the carrier of the project but he is also the\n",
       "carrier of the inspiration he and his friends need If he is the one who is going\n",
       "to get the university scholarship because his friends gave him precedence his\n",
       "friends will also be able to get on their own roads and tracks and step out of\n",
       "the mining fate thanks to the energy his inspiring example sets in front of\n",
       "their eyes It is hard at times not to follow the example of the one who is like\n",
       "a beacon on a difficult road But the film is also effective to show how the\n",
       "father resisted this dream because for him science was not the fabric of a true\n",
       "man like mining or football The working class fate that was so present in those\n",
       "1950s and 1960s and still is present in some areas is too often enforced by the\n",
       "traditional thinking of the father If the mother does not have the courage to\n",
       "speak up one day the working class fate I am speaking of becomes a tremendous\n",
       "trap Here too the film is effective and it should make some parents think This\n",
       "might have been the fourth challenge Homer had to face the challenge of taking a\n",
       "road that was not the one pointed at and programmed by his own fatherDr Jacques\n",
       "COULARDEAU University Paris Dauphine\n"
      ]
     },
     "metadata": {},
     "output_type": "display_data"
    },
    {
     "data": {
      "text/html": [
       "<pre style=\"white-space:pre;overflow-x:auto;line-height:normal;font-family:Menlo,'DejaVu Sans Mono',consolas,'Courier New',monospace\">\n",
       "Actual sentiment: positive\n",
       "</pre>\n"
      ],
      "text/plain": [
       "\n",
       "Actual sentiment: positive\n"
      ]
     },
     "metadata": {},
     "output_type": "display_data"
    },
    {
     "data": {
      "text/html": [
       "<pre style=\"white-space:pre;overflow-x:auto;line-height:normal;font-family:Menlo,'DejaVu Sans Mono',consolas,'Courier New',monospace\">Predicted sentiment: positive\n",
       "</pre>\n"
      ],
      "text/plain": [
       "Predicted sentiment: positive\n"
      ]
     },
     "metadata": {},
     "output_type": "display_data"
    },
    {
     "data": {
      "text/html": [
       "<pre style=\"white-space:pre;overflow-x:auto;line-height:normal;font-family:Menlo,'DejaVu Sans Mono',consolas,'Courier New',monospace\">================================================================================\n",
       "\n",
       "</pre>\n"
      ],
      "text/plain": [
       "================================================================================\n",
       "\n"
      ]
     },
     "metadata": {},
     "output_type": "display_data"
    },
    {
     "data": {
      "text/html": [
       "<pre style=\"white-space:pre;overflow-x:auto;line-height:normal;font-family:Menlo,'DejaVu Sans Mono',consolas,'Courier New',monospace\">Review: Unlike The Adventures of Buckaroo Banzai or Big Trouble in Little China\n",
       "or Conan the Barbarian which are horrible films that have a certain coolness and\n",
       "selfdeprecating humor that turn them into cult sensations The Golden Child is\n",
       "just plain badThe premise itself is not unworkable and there are some funny\n",
       "moments But here the Eddy Murphy flip attitude just deflates any feeling of\n",
       "tension or danger in the story And the special effects are silly enough to do\n",
       "more damage to that tension The mystic secrets of Tibetan Buddhism are lampooned\n",
       "rather than drawn upon to compelWithout a feeling that anything is at stake or\n",
       "that the characters are faced by real danger why should we careWho should see\n",
       "this film big fans of Eddy Murphy who cant help themselves I cant think of\n",
       "anyone elseIll give this film a <span style=\"color: #008080; text-decoration-color: #008080; font-weight: bold\">4</span> out of <span style=\"color: #008080; text-decoration-color: #008080; font-weight: bold\">10</span> for the occasional joke that worked\n",
       "</pre>\n"
      ],
      "text/plain": [
       "Review: Unlike The Adventures of Buckaroo Banzai or Big Trouble in Little China\n",
       "or Conan the Barbarian which are horrible films that have a certain coolness and\n",
       "selfdeprecating humor that turn them into cult sensations The Golden Child is\n",
       "just plain badThe premise itself is not unworkable and there are some funny\n",
       "moments But here the Eddy Murphy flip attitude just deflates any feeling of\n",
       "tension or danger in the story And the special effects are silly enough to do\n",
       "more damage to that tension The mystic secrets of Tibetan Buddhism are lampooned\n",
       "rather than drawn upon to compelWithout a feeling that anything is at stake or\n",
       "that the characters are faced by real danger why should we careWho should see\n",
       "this film big fans of Eddy Murphy who cant help themselves I cant think of\n",
       "anyone elseIll give this film a \u001b[1;36m4\u001b[0m out of \u001b[1;36m10\u001b[0m for the occasional joke that worked\n"
      ]
     },
     "metadata": {},
     "output_type": "display_data"
    },
    {
     "data": {
      "text/html": [
       "<pre style=\"white-space:pre;overflow-x:auto;line-height:normal;font-family:Menlo,'DejaVu Sans Mono',consolas,'Courier New',monospace\">\n",
       "Actual sentiment: negative\n",
       "</pre>\n"
      ],
      "text/plain": [
       "\n",
       "Actual sentiment: negative\n"
      ]
     },
     "metadata": {},
     "output_type": "display_data"
    },
    {
     "data": {
      "text/html": [
       "<pre style=\"white-space:pre;overflow-x:auto;line-height:normal;font-family:Menlo,'DejaVu Sans Mono',consolas,'Courier New',monospace\">Predicted sentiment: negative\n",
       "</pre>\n"
      ],
      "text/plain": [
       "Predicted sentiment: negative\n"
      ]
     },
     "metadata": {},
     "output_type": "display_data"
    },
    {
     "data": {
      "text/html": [
       "<pre style=\"white-space:pre;overflow-x:auto;line-height:normal;font-family:Menlo,'DejaVu Sans Mono',consolas,'Courier New',monospace\">================================================================================\n",
       "\n",
       "</pre>\n"
      ],
      "text/plain": [
       "================================================================================\n",
       "\n"
      ]
     },
     "metadata": {},
     "output_type": "display_data"
    },
    {
     "data": {
      "text/html": [
       "<pre style=\"white-space:pre;overflow-x:auto;line-height:normal;font-family:Menlo,'DejaVu Sans Mono',consolas,'Courier New',monospace\">Review: The film made no sense to me whatsoever Good\n",
       "actorsSergioCastellittoaparticular favourite he was great in Uomo\n",
       "DelleStelleTheStarmakerbut that was made by Giuseppe Tornatore a great Italian\n",
       "director as opposed to the mediocre one who made this effortbut awful rambling\n",
       "script terrible editingand a director who seemed to have no idea of what he was\n",
       "trying to say and ended up saying exactly nothing Apretentious load of rubbish\n",
       "but the sort of film that certain Italianpseudointellectuals whom it was my\n",
       "misfortune to have known in the dim and distant past would have loved it and\n",
       "unfortunately Italy has no monopoly on these they can be found everywhere and\n",
       "probably acclaim this as a great masterpiece I never thought much of Bellochio\n",
       "as director I remember seeing his first film PugniNella TascaFists in the Pocket\n",
       "or some such title in Rome when it was first shown close on <span style=\"color: #008080; text-decoration-color: #008080; font-weight: bold\">50</span> years ago I was\n",
       "living thereat the time All the usual pseudos raved about it but it left me\n",
       "pretty cold I didnt think he was much of a director then and still dont Age has\n",
       "certainly not improved him and this film must rank as one of his worst\n",
       "</pre>\n"
      ],
      "text/plain": [
       "Review: The film made no sense to me whatsoever Good\n",
       "actorsSergioCastellittoaparticular favourite he was great in Uomo\n",
       "DelleStelleTheStarmakerbut that was made by Giuseppe Tornatore a great Italian\n",
       "director as opposed to the mediocre one who made this effortbut awful rambling\n",
       "script terrible editingand a director who seemed to have no idea of what he was\n",
       "trying to say and ended up saying exactly nothing Apretentious load of rubbish\n",
       "but the sort of film that certain Italianpseudointellectuals whom it was my\n",
       "misfortune to have known in the dim and distant past would have loved it and\n",
       "unfortunately Italy has no monopoly on these they can be found everywhere and\n",
       "probably acclaim this as a great masterpiece I never thought much of Bellochio\n",
       "as director I remember seeing his first film PugniNella TascaFists in the Pocket\n",
       "or some such title in Rome when it was first shown close on \u001b[1;36m50\u001b[0m years ago I was\n",
       "living thereat the time All the usual pseudos raved about it but it left me\n",
       "pretty cold I didnt think he was much of a director then and still dont Age has\n",
       "certainly not improved him and this film must rank as one of his worst\n"
      ]
     },
     "metadata": {},
     "output_type": "display_data"
    },
    {
     "data": {
      "text/html": [
       "<pre style=\"white-space:pre;overflow-x:auto;line-height:normal;font-family:Menlo,'DejaVu Sans Mono',consolas,'Courier New',monospace\">\n",
       "Actual sentiment: negative\n",
       "</pre>\n"
      ],
      "text/plain": [
       "\n",
       "Actual sentiment: negative\n"
      ]
     },
     "metadata": {},
     "output_type": "display_data"
    },
    {
     "data": {
      "text/html": [
       "<pre style=\"white-space:pre;overflow-x:auto;line-height:normal;font-family:Menlo,'DejaVu Sans Mono',consolas,'Courier New',monospace\">Predicted sentiment: negative\n",
       "</pre>\n"
      ],
      "text/plain": [
       "Predicted sentiment: negative\n"
      ]
     },
     "metadata": {},
     "output_type": "display_data"
    },
    {
     "data": {
      "text/html": [
       "<pre style=\"white-space:pre;overflow-x:auto;line-height:normal;font-family:Menlo,'DejaVu Sans Mono',consolas,'Courier New',monospace\">================================================================================\n",
       "\n",
       "</pre>\n"
      ],
      "text/plain": [
       "================================================================================\n",
       "\n"
      ]
     },
     "metadata": {},
     "output_type": "display_data"
    },
    {
     "data": {
      "text/html": [
       "<pre style=\"white-space:pre;overflow-x:auto;line-height:normal;font-family:Menlo,'DejaVu Sans Mono',consolas,'Courier New',monospace\">Review: I saw the premier of this movie during the <span style=\"color: #008080; text-decoration-color: #008080; font-weight: bold\">2005</span> Phoenix Film Festival\n",
       "and was very impressed with the skill Director Jeff Hare exhibited in bringing\n",
       "this timely topic to the screen The cast of characters meshed perfectly and\n",
       "allowed us to examine the issue of a senior wishing to die on his own terms in a\n",
       "very warm and humorous way Peter Falk was brilliant as Morris and the supporting\n",
       "group of family members and friends were perfectly cast in their roles The\n",
       "interaction of the family friends and outsiders with Morris created a realistic\n",
       "view of how families address the issue of their parents aging and their wishes\n",
       "to die with dignityAlthough this movie is ostensibly a movie about a Jewish\n",
       "Actor and his family it is truly a movie about all families The jokes the family\n",
       "and Morris crack during this romp through the life of a Force of Nature are\n",
       "fresh and realistic Childhood rivalries adult successes and failures and hope\n",
       "for the children are integral to this screenplay While many will question how\n",
       "you can make the topic of suicide humorous I thought the treatment logical and\n",
       "timely If you are not afraid to shed a few tears or laugh at the quips of a\n",
       "family struggling with this issue then you MUST SEE THIS MOVIEThe movie was\n",
       "awarded Best Picture at the Phoenix Film Festival\n",
       "</pre>\n"
      ],
      "text/plain": [
       "Review: I saw the premier of this movie during the \u001b[1;36m2005\u001b[0m Phoenix Film Festival\n",
       "and was very impressed with the skill Director Jeff Hare exhibited in bringing\n",
       "this timely topic to the screen The cast of characters meshed perfectly and\n",
       "allowed us to examine the issue of a senior wishing to die on his own terms in a\n",
       "very warm and humorous way Peter Falk was brilliant as Morris and the supporting\n",
       "group of family members and friends were perfectly cast in their roles The\n",
       "interaction of the family friends and outsiders with Morris created a realistic\n",
       "view of how families address the issue of their parents aging and their wishes\n",
       "to die with dignityAlthough this movie is ostensibly a movie about a Jewish\n",
       "Actor and his family it is truly a movie about all families The jokes the family\n",
       "and Morris crack during this romp through the life of a Force of Nature are\n",
       "fresh and realistic Childhood rivalries adult successes and failures and hope\n",
       "for the children are integral to this screenplay While many will question how\n",
       "you can make the topic of suicide humorous I thought the treatment logical and\n",
       "timely If you are not afraid to shed a few tears or laugh at the quips of a\n",
       "family struggling with this issue then you MUST SEE THIS MOVIEThe movie was\n",
       "awarded Best Picture at the Phoenix Film Festival\n"
      ]
     },
     "metadata": {},
     "output_type": "display_data"
    },
    {
     "data": {
      "text/html": [
       "<pre style=\"white-space:pre;overflow-x:auto;line-height:normal;font-family:Menlo,'DejaVu Sans Mono',consolas,'Courier New',monospace\">\n",
       "Actual sentiment: positive\n",
       "</pre>\n"
      ],
      "text/plain": [
       "\n",
       "Actual sentiment: positive\n"
      ]
     },
     "metadata": {},
     "output_type": "display_data"
    },
    {
     "data": {
      "text/html": [
       "<pre style=\"white-space:pre;overflow-x:auto;line-height:normal;font-family:Menlo,'DejaVu Sans Mono',consolas,'Courier New',monospace\">Predicted sentiment: positive\n",
       "</pre>\n"
      ],
      "text/plain": [
       "Predicted sentiment: positive\n"
      ]
     },
     "metadata": {},
     "output_type": "display_data"
    },
    {
     "data": {
      "text/html": [
       "<pre style=\"white-space:pre;overflow-x:auto;line-height:normal;font-family:Menlo,'DejaVu Sans Mono',consolas,'Courier New',monospace\">================================================================================\n",
       "\n",
       "</pre>\n"
      ],
      "text/plain": [
       "================================================================================\n",
       "\n"
      ]
     },
     "metadata": {},
     "output_type": "display_data"
    },
    {
     "data": {
      "text/html": [
       "<pre style=\"white-space:pre;overflow-x:auto;line-height:normal;font-family:Menlo,'DejaVu Sans Mono',consolas,'Courier New',monospace\">Review: This can be one of the most enjoyable movies ever if you dont take it\n",
       "seriously It is a bit dated and the effects are lame but it is so enjoyable\n",
       "There are giant crabs that attack a girl oh and the crabs sing Japanese It is\n",
       "amazingly bad And the ending which has been telegraphed throughout the entire\n",
       "film is hideously awesome Predictable but seeing the final fight will leave you\n",
       "rolling in your seat Dont even give this film a chance and you will love it\n",
       "Susan George is fun to watch and yes she does appear naked Her daughter isnt\n",
       "quite worth putting up with but she does get attacked by giant crabs They are\n",
       "the size of large cats This is a <span style=\"color: #008080; text-decoration-color: #008080; font-weight: bold\">2</span> but I love it As a movie my God but for\n",
       "entertainment I give it a <span style=\"color: #008080; text-decoration-color: #008080; font-weight: bold\">7</span> Did I mention there are giant crabs\n",
       "</pre>\n"
      ],
      "text/plain": [
       "Review: This can be one of the most enjoyable movies ever if you dont take it\n",
       "seriously It is a bit dated and the effects are lame but it is so enjoyable\n",
       "There are giant crabs that attack a girl oh and the crabs sing Japanese It is\n",
       "amazingly bad And the ending which has been telegraphed throughout the entire\n",
       "film is hideously awesome Predictable but seeing the final fight will leave you\n",
       "rolling in your seat Dont even give this film a chance and you will love it\n",
       "Susan George is fun to watch and yes she does appear naked Her daughter isnt\n",
       "quite worth putting up with but she does get attacked by giant crabs They are\n",
       "the size of large cats This is a \u001b[1;36m2\u001b[0m but I love it As a movie my God but for\n",
       "entertainment I give it a \u001b[1;36m7\u001b[0m Did I mention there are giant crabs\n"
      ]
     },
     "metadata": {},
     "output_type": "display_data"
    },
    {
     "data": {
      "text/html": [
       "<pre style=\"white-space:pre;overflow-x:auto;line-height:normal;font-family:Menlo,'DejaVu Sans Mono',consolas,'Courier New',monospace\">\n",
       "Actual sentiment: negative\n",
       "</pre>\n"
      ],
      "text/plain": [
       "\n",
       "Actual sentiment: negative\n"
      ]
     },
     "metadata": {},
     "output_type": "display_data"
    },
    {
     "data": {
      "text/html": [
       "<pre style=\"white-space:pre;overflow-x:auto;line-height:normal;font-family:Menlo,'DejaVu Sans Mono',consolas,'Courier New',monospace\">Predicted sentiment: positive\n",
       "</pre>\n"
      ],
      "text/plain": [
       "Predicted sentiment: positive\n"
      ]
     },
     "metadata": {},
     "output_type": "display_data"
    },
    {
     "data": {
      "text/html": [
       "<pre style=\"white-space:pre;overflow-x:auto;line-height:normal;font-family:Menlo,'DejaVu Sans Mono',consolas,'Courier New',monospace\">================================================================================\n",
       "\n",
       "</pre>\n"
      ],
      "text/plain": [
       "================================================================================\n",
       "\n"
      ]
     },
     "metadata": {},
     "output_type": "display_data"
    },
    {
     "data": {
      "text/html": [
       "<pre style=\"white-space:pre;overflow-x:auto;line-height:normal;font-family:Menlo,'DejaVu Sans Mono',consolas,'Courier New',monospace\">Review: I laughed a lot while watching this Its an amusing short with a fun\n",
       "musical act and a lot of wackiness The characters are simple but their\n",
       "simplicity adds to the humor stylization The dialog is funny and often\n",
       "unexpected and from the first line to the last everything just seems to flow\n",
       "wonderfully Theres Max who has apparently led a horrible life And theres Edward\n",
       "who isnt sure what life he wants to lead My favorite character was Tom Edwards\n",
       "insane boss Tom has a short role but a memorable one Highly recommended for\n",
       "anyone who likes silly humor And you can find it online now which is a bonus I\n",
       "am a fan of all of Jasons cartoons and cant wait to see what he comes out with\n",
       "next\n",
       "</pre>\n"
      ],
      "text/plain": [
       "Review: I laughed a lot while watching this Its an amusing short with a fun\n",
       "musical act and a lot of wackiness The characters are simple but their\n",
       "simplicity adds to the humor stylization The dialog is funny and often\n",
       "unexpected and from the first line to the last everything just seems to flow\n",
       "wonderfully Theres Max who has apparently led a horrible life And theres Edward\n",
       "who isnt sure what life he wants to lead My favorite character was Tom Edwards\n",
       "insane boss Tom has a short role but a memorable one Highly recommended for\n",
       "anyone who likes silly humor And you can find it online now which is a bonus I\n",
       "am a fan of all of Jasons cartoons and cant wait to see what he comes out with\n",
       "next\n"
      ]
     },
     "metadata": {},
     "output_type": "display_data"
    },
    {
     "data": {
      "text/html": [
       "<pre style=\"white-space:pre;overflow-x:auto;line-height:normal;font-family:Menlo,'DejaVu Sans Mono',consolas,'Courier New',monospace\">\n",
       "Actual sentiment: positive\n",
       "</pre>\n"
      ],
      "text/plain": [
       "\n",
       "Actual sentiment: positive\n"
      ]
     },
     "metadata": {},
     "output_type": "display_data"
    },
    {
     "data": {
      "text/html": [
       "<pre style=\"white-space:pre;overflow-x:auto;line-height:normal;font-family:Menlo,'DejaVu Sans Mono',consolas,'Courier New',monospace\">Predicted sentiment: positive\n",
       "</pre>\n"
      ],
      "text/plain": [
       "Predicted sentiment: positive\n"
      ]
     },
     "metadata": {},
     "output_type": "display_data"
    },
    {
     "data": {
      "text/html": [
       "<pre style=\"white-space:pre;overflow-x:auto;line-height:normal;font-family:Menlo,'DejaVu Sans Mono',consolas,'Courier New',monospace\">================================================================================\n",
       "\n",
       "</pre>\n"
      ],
      "text/plain": [
       "================================================================================\n",
       "\n"
      ]
     },
     "metadata": {},
     "output_type": "display_data"
    },
    {
     "data": {
      "text/html": [
       "<pre style=\"white-space:pre;overflow-x:auto;line-height:normal;font-family:Menlo,'DejaVu Sans Mono',consolas,'Courier New',monospace\">Review: but I would be lying A relative was a crew member and we got to go watch\n",
       "the production of this movie for a couple of days and I was an extra I get to\n",
       "die and have a second of screen time not that I plan on moving to Hollywood\n",
       "anytime soon I just thought it was awesome to see how movies are made and be a\n",
       "part of it Plus I got a copy of the movie once it was finally released They\n",
       "didnt have a studio backing when making this film so it truly was independent\n",
       "Why the writing and acting is so awful is beyond me but the main character\n",
       "Cherry is the directors sister so that could be part of it But the\n",
       "cinematography was good\n",
       "</pre>\n"
      ],
      "text/plain": [
       "Review: but I would be lying A relative was a crew member and we got to go watch\n",
       "the production of this movie for a couple of days and I was an extra I get to\n",
       "die and have a second of screen time not that I plan on moving to Hollywood\n",
       "anytime soon I just thought it was awesome to see how movies are made and be a\n",
       "part of it Plus I got a copy of the movie once it was finally released They\n",
       "didnt have a studio backing when making this film so it truly was independent\n",
       "Why the writing and acting is so awful is beyond me but the main character\n",
       "Cherry is the directors sister so that could be part of it But the\n",
       "cinematography was good\n"
      ]
     },
     "metadata": {},
     "output_type": "display_data"
    },
    {
     "data": {
      "text/html": [
       "<pre style=\"white-space:pre;overflow-x:auto;line-height:normal;font-family:Menlo,'DejaVu Sans Mono',consolas,'Courier New',monospace\">\n",
       "Actual sentiment: negative\n",
       "</pre>\n"
      ],
      "text/plain": [
       "\n",
       "Actual sentiment: negative\n"
      ]
     },
     "metadata": {},
     "output_type": "display_data"
    },
    {
     "data": {
      "text/html": [
       "<pre style=\"white-space:pre;overflow-x:auto;line-height:normal;font-family:Menlo,'DejaVu Sans Mono',consolas,'Courier New',monospace\">Predicted sentiment: negative\n",
       "</pre>\n"
      ],
      "text/plain": [
       "Predicted sentiment: negative\n"
      ]
     },
     "metadata": {},
     "output_type": "display_data"
    },
    {
     "data": {
      "text/html": [
       "<pre style=\"white-space:pre;overflow-x:auto;line-height:normal;font-family:Menlo,'DejaVu Sans Mono',consolas,'Courier New',monospace\">================================================================================\n",
       "\n",
       "</pre>\n"
      ],
      "text/plain": [
       "================================================================================\n",
       "\n"
      ]
     },
     "metadata": {},
     "output_type": "display_data"
    },
    {
     "data": {
      "text/html": [
       "<pre style=\"white-space:pre;overflow-x:auto;line-height:normal;font-family:Menlo,'DejaVu Sans Mono',consolas,'Courier New',monospace\">Review: Six out of seven people who took the time to comment on this movie have\n",
       "very positive responses The one negative review happens to reside or did on the\n",
       "first page of the movies location in the IMDbI found What Alice Found to be one\n",
       "of the best movies almost no ones heard of that I have seen this year Its <span style=\"color: #008080; text-decoration-color: #008080; font-weight: bold\">64</span>\n",
       "rating is misleading and may be more a function of the difficult subject matter\n",
       "than the quality of the movie Who would think that a movie purportedly about\n",
       "truck stop prostitution would be worth seeing Guess againFor me Alice was a\n",
       "positively gripping psychological thriller I was virtually on the edge of my\n",
       "seat the entire time Its a very credible story with a realistic script and is\n",
       "very well cast In a fairer world actress Judith Ivey would win awards for\n",
       "keeping you guessing whether she was good or evilIgnore the rating and see this\n",
       "terrific movie And by the way I wish there was a soundtrack album\n",
       "</pre>\n"
      ],
      "text/plain": [
       "Review: Six out of seven people who took the time to comment on this movie have\n",
       "very positive responses The one negative review happens to reside or did on the\n",
       "first page of the movies location in the IMDbI found What Alice Found to be one\n",
       "of the best movies almost no ones heard of that I have seen this year Its \u001b[1;36m64\u001b[0m\n",
       "rating is misleading and may be more a function of the difficult subject matter\n",
       "than the quality of the movie Who would think that a movie purportedly about\n",
       "truck stop prostitution would be worth seeing Guess againFor me Alice was a\n",
       "positively gripping psychological thriller I was virtually on the edge of my\n",
       "seat the entire time Its a very credible story with a realistic script and is\n",
       "very well cast In a fairer world actress Judith Ivey would win awards for\n",
       "keeping you guessing whether she was good or evilIgnore the rating and see this\n",
       "terrific movie And by the way I wish there was a soundtrack album\n"
      ]
     },
     "metadata": {},
     "output_type": "display_data"
    },
    {
     "data": {
      "text/html": [
       "<pre style=\"white-space:pre;overflow-x:auto;line-height:normal;font-family:Menlo,'DejaVu Sans Mono',consolas,'Courier New',monospace\">\n",
       "Actual sentiment: positive\n",
       "</pre>\n"
      ],
      "text/plain": [
       "\n",
       "Actual sentiment: positive\n"
      ]
     },
     "metadata": {},
     "output_type": "display_data"
    },
    {
     "data": {
      "text/html": [
       "<pre style=\"white-space:pre;overflow-x:auto;line-height:normal;font-family:Menlo,'DejaVu Sans Mono',consolas,'Courier New',monospace\">Predicted sentiment: positive\n",
       "</pre>\n"
      ],
      "text/plain": [
       "Predicted sentiment: positive\n"
      ]
     },
     "metadata": {},
     "output_type": "display_data"
    },
    {
     "data": {
      "text/html": [
       "<pre style=\"white-space:pre;overflow-x:auto;line-height:normal;font-family:Menlo,'DejaVu Sans Mono',consolas,'Courier New',monospace\">================================================================================\n",
       "\n",
       "</pre>\n"
      ],
      "text/plain": [
       "================================================================================\n",
       "\n"
      ]
     },
     "metadata": {},
     "output_type": "display_data"
    },
    {
     "data": {
      "text/html": [
       "<pre style=\"white-space:pre;overflow-x:auto;line-height:normal;font-family:Menlo,'DejaVu Sans Mono',consolas,'Courier New',monospace\">Review: exquisite in simple words both Aparna Sen and Konkona Sen seem to\n",
       "understand each other quite well or maybe they both are just too goodthis might\n",
       "just be her best performance as an actor and Aparnas best as a director yeah\n",
       "maybe better than Mr and Mrs Iyer Konkona plays the role of a schizophrenic\n",
       "Shabana Azmi plays the role of AnjaliMithisKonkona Sens elder sister Shabana\n",
       "Azmi made the best out of Anjalis character for she had to play a\n",
       "strongresponsiblearrogant role of an elder sister who had the full\n",
       "responsibility of her family Aparna Sen has beautifully crafted Anjalis\n",
       "charactera strong woman who had to sacrifice her personal lifeher love for her\n",
       "familyMithis behavior wasnot juvenile at allfor you can expect this from most of\n",
       "Indian directors for this rolelooks like a lot of research has been done to\n",
       "understand the role of Mithia schizophrenic When at times Mithi is a normalsweet\n",
       "college going girlshe also scares you when she is shown illboth the sides have\n",
       "been beautifully judged and playedbelieve me it at times reminds you of the girl\n",
       "in Exorcistnot that scary though OverallMarvellous piece of work by Aparna\n",
       "SenKonkona Sen and Shabana Azmi\n",
       "</pre>\n"
      ],
      "text/plain": [
       "Review: exquisite in simple words both Aparna Sen and Konkona Sen seem to\n",
       "understand each other quite well or maybe they both are just too goodthis might\n",
       "just be her best performance as an actor and Aparnas best as a director yeah\n",
       "maybe better than Mr and Mrs Iyer Konkona plays the role of a schizophrenic\n",
       "Shabana Azmi plays the role of AnjaliMithisKonkona Sens elder sister Shabana\n",
       "Azmi made the best out of Anjalis character for she had to play a\n",
       "strongresponsiblearrogant role of an elder sister who had the full\n",
       "responsibility of her family Aparna Sen has beautifully crafted Anjalis\n",
       "charactera strong woman who had to sacrifice her personal lifeher love for her\n",
       "familyMithis behavior wasnot juvenile at allfor you can expect this from most of\n",
       "Indian directors for this rolelooks like a lot of research has been done to\n",
       "understand the role of Mithia schizophrenic When at times Mithi is a normalsweet\n",
       "college going girlshe also scares you when she is shown illboth the sides have\n",
       "been beautifully judged and playedbelieve me it at times reminds you of the girl\n",
       "in Exorcistnot that scary though OverallMarvellous piece of work by Aparna\n",
       "SenKonkona Sen and Shabana Azmi\n"
      ]
     },
     "metadata": {},
     "output_type": "display_data"
    },
    {
     "data": {
      "text/html": [
       "<pre style=\"white-space:pre;overflow-x:auto;line-height:normal;font-family:Menlo,'DejaVu Sans Mono',consolas,'Courier New',monospace\">\n",
       "Actual sentiment: positive\n",
       "</pre>\n"
      ],
      "text/plain": [
       "\n",
       "Actual sentiment: positive\n"
      ]
     },
     "metadata": {},
     "output_type": "display_data"
    },
    {
     "data": {
      "text/html": [
       "<pre style=\"white-space:pre;overflow-x:auto;line-height:normal;font-family:Menlo,'DejaVu Sans Mono',consolas,'Courier New',monospace\">Predicted sentiment: positive\n",
       "</pre>\n"
      ],
      "text/plain": [
       "Predicted sentiment: positive\n"
      ]
     },
     "metadata": {},
     "output_type": "display_data"
    },
    {
     "data": {
      "text/html": [
       "<pre style=\"white-space:pre;overflow-x:auto;line-height:normal;font-family:Menlo,'DejaVu Sans Mono',consolas,'Courier New',monospace\">================================================================================\n",
       "\n",
       "</pre>\n"
      ],
      "text/plain": [
       "================================================================================\n",
       "\n"
      ]
     },
     "metadata": {},
     "output_type": "display_data"
    },
    {
     "data": {
      "text/html": [
       "<pre style=\"white-space:pre;overflow-x:auto;line-height:normal;font-family:Menlo,'DejaVu Sans Mono',consolas,'Courier New',monospace\">Review: Had a bad day Dog bit the mailman Car wouldnt start People got on your\n",
       "nerves Then refresh yourself with a delightful experienceTwo women decide to\n",
       "pool their resources in answer to an ad for a months rental of a villa in Italy\n",
       "Due to financial circumstances two other women join them Two have humdrum\n",
       "marital lives one is an elderly woman who prefers to live in the past the fourth\n",
       "is a wealthy and beautiful woman wholly jaded by lifeAs the spell of the villa\n",
       "permeates their spirits each grows in her own way and is uplifted in her outlook\n",
       "This also changes the people in their lives who have visited them As they leave\n",
       "you know the magic of the villa will remain with themand you will find your\n",
       "outlook altered for the better A delightfully uplifting movie\n",
       "</pre>\n"
      ],
      "text/plain": [
       "Review: Had a bad day Dog bit the mailman Car wouldnt start People got on your\n",
       "nerves Then refresh yourself with a delightful experienceTwo women decide to\n",
       "pool their resources in answer to an ad for a months rental of a villa in Italy\n",
       "Due to financial circumstances two other women join them Two have humdrum\n",
       "marital lives one is an elderly woman who prefers to live in the past the fourth\n",
       "is a wealthy and beautiful woman wholly jaded by lifeAs the spell of the villa\n",
       "permeates their spirits each grows in her own way and is uplifted in her outlook\n",
       "This also changes the people in their lives who have visited them As they leave\n",
       "you know the magic of the villa will remain with themand you will find your\n",
       "outlook altered for the better A delightfully uplifting movie\n"
      ]
     },
     "metadata": {},
     "output_type": "display_data"
    },
    {
     "data": {
      "text/html": [
       "<pre style=\"white-space:pre;overflow-x:auto;line-height:normal;font-family:Menlo,'DejaVu Sans Mono',consolas,'Courier New',monospace\">\n",
       "Actual sentiment: positive\n",
       "</pre>\n"
      ],
      "text/plain": [
       "\n",
       "Actual sentiment: positive\n"
      ]
     },
     "metadata": {},
     "output_type": "display_data"
    },
    {
     "data": {
      "text/html": [
       "<pre style=\"white-space:pre;overflow-x:auto;line-height:normal;font-family:Menlo,'DejaVu Sans Mono',consolas,'Courier New',monospace\">Predicted sentiment: positive\n",
       "</pre>\n"
      ],
      "text/plain": [
       "Predicted sentiment: positive\n"
      ]
     },
     "metadata": {},
     "output_type": "display_data"
    },
    {
     "data": {
      "text/html": [
       "<pre style=\"white-space:pre;overflow-x:auto;line-height:normal;font-family:Menlo,'DejaVu Sans Mono',consolas,'Courier New',monospace\">================================================================================\n",
       "\n",
       "</pre>\n"
      ],
      "text/plain": [
       "================================================================================\n",
       "\n"
      ]
     },
     "metadata": {},
     "output_type": "display_data"
    },
    {
     "data": {
      "text/html": [
       "<pre style=\"white-space:pre;overflow-x:auto;line-height:normal;font-family:Menlo,'DejaVu Sans Mono',consolas,'Courier New',monospace\">Review: Even with a cast that boasts such generally reliable names as Val Kilmer\n",
       "and Lisa Kudrow Wonderland fails to yield any sense of depth to this film It\n",
       "barely brushes the surface of the incidents that happened on that July night in\n",
       "<span style=\"color: #008080; text-decoration-color: #008080; font-weight: bold\">1981</span> Kilmer just goes through the motions as John Holmes and Kudrow and Kate\n",
       "Bosworth are both hopefully miscast in the other two lead roles as Holmess wife\n",
       "and underage girlfriend respectively The rest of the cast has such small roles\n",
       "that its impossible to get any dimensions from them The film also stars Carrie\n",
       "Fisher Ted Levine Franky G MC Gainey Dylan McDermott and a cameo from Paris\n",
       "Hilton\n",
       "</pre>\n"
      ],
      "text/plain": [
       "Review: Even with a cast that boasts such generally reliable names as Val Kilmer\n",
       "and Lisa Kudrow Wonderland fails to yield any sense of depth to this film It\n",
       "barely brushes the surface of the incidents that happened on that July night in\n",
       "\u001b[1;36m1981\u001b[0m Kilmer just goes through the motions as John Holmes and Kudrow and Kate\n",
       "Bosworth are both hopefully miscast in the other two lead roles as Holmess wife\n",
       "and underage girlfriend respectively The rest of the cast has such small roles\n",
       "that its impossible to get any dimensions from them The film also stars Carrie\n",
       "Fisher Ted Levine Franky G MC Gainey Dylan McDermott and a cameo from Paris\n",
       "Hilton\n"
      ]
     },
     "metadata": {},
     "output_type": "display_data"
    },
    {
     "data": {
      "text/html": [
       "<pre style=\"white-space:pre;overflow-x:auto;line-height:normal;font-family:Menlo,'DejaVu Sans Mono',consolas,'Courier New',monospace\">\n",
       "Actual sentiment: negative\n",
       "</pre>\n"
      ],
      "text/plain": [
       "\n",
       "Actual sentiment: negative\n"
      ]
     },
     "metadata": {},
     "output_type": "display_data"
    },
    {
     "data": {
      "text/html": [
       "<pre style=\"white-space:pre;overflow-x:auto;line-height:normal;font-family:Menlo,'DejaVu Sans Mono',consolas,'Courier New',monospace\">Predicted sentiment: negative\n",
       "</pre>\n"
      ],
      "text/plain": [
       "Predicted sentiment: negative\n"
      ]
     },
     "metadata": {},
     "output_type": "display_data"
    },
    {
     "data": {
      "text/html": [
       "<pre style=\"white-space:pre;overflow-x:auto;line-height:normal;font-family:Menlo,'DejaVu Sans Mono',consolas,'Courier New',monospace\">================================================================================\n",
       "\n",
       "</pre>\n"
      ],
      "text/plain": [
       "================================================================================\n",
       "\n"
      ]
     },
     "metadata": {},
     "output_type": "display_data"
    },
    {
     "data": {
      "text/html": [
       "<pre style=\"white-space:pre;overflow-x:auto;line-height:normal;font-family:Menlo,'DejaVu Sans Mono',consolas,'Courier New',monospace\">Review: This was a well written tale of the Making of the Batman Sitcom and\n",
       "actually reunites our heroes on a great quest as well as offers their TV shows\n",
       "history Unlike the Bradys and Partridge family documentary movies we not only\n",
       "get a look into the past and present lives of Adam and Burt but also get to see\n",
       "them back in action Filled with Kapows and catwomen and the Riddlers Batman is\n",
       "back ina well told tale that not only gives us a satisfactory closing to the\n",
       "Batman series but fills the modern fan in on all the hollywood tales that about\n",
       "them that havent been heard in <span style=\"color: #008080; text-decoration-color: #008080; font-weight: bold\">35</span> yearsKudos\n",
       "</pre>\n"
      ],
      "text/plain": [
       "Review: This was a well written tale of the Making of the Batman Sitcom and\n",
       "actually reunites our heroes on a great quest as well as offers their TV shows\n",
       "history Unlike the Bradys and Partridge family documentary movies we not only\n",
       "get a look into the past and present lives of Adam and Burt but also get to see\n",
       "them back in action Filled with Kapows and catwomen and the Riddlers Batman is\n",
       "back ina well told tale that not only gives us a satisfactory closing to the\n",
       "Batman series but fills the modern fan in on all the hollywood tales that about\n",
       "them that havent been heard in \u001b[1;36m35\u001b[0m yearsKudos\n"
      ]
     },
     "metadata": {},
     "output_type": "display_data"
    },
    {
     "data": {
      "text/html": [
       "<pre style=\"white-space:pre;overflow-x:auto;line-height:normal;font-family:Menlo,'DejaVu Sans Mono',consolas,'Courier New',monospace\">\n",
       "Actual sentiment: positive\n",
       "</pre>\n"
      ],
      "text/plain": [
       "\n",
       "Actual sentiment: positive\n"
      ]
     },
     "metadata": {},
     "output_type": "display_data"
    },
    {
     "data": {
      "text/html": [
       "<pre style=\"white-space:pre;overflow-x:auto;line-height:normal;font-family:Menlo,'DejaVu Sans Mono',consolas,'Courier New',monospace\">Predicted sentiment: positive\n",
       "</pre>\n"
      ],
      "text/plain": [
       "Predicted sentiment: positive\n"
      ]
     },
     "metadata": {},
     "output_type": "display_data"
    },
    {
     "data": {
      "text/html": [
       "<pre style=\"white-space:pre;overflow-x:auto;line-height:normal;font-family:Menlo,'DejaVu Sans Mono',consolas,'Courier New',monospace\">================================================================================\n",
       "\n",
       "</pre>\n"
      ],
      "text/plain": [
       "================================================================================\n",
       "\n"
      ]
     },
     "metadata": {},
     "output_type": "display_data"
    },
    {
     "data": {
      "text/html": [
       "<pre style=\"white-space:pre;overflow-x:auto;line-height:normal;font-family:Menlo,'DejaVu Sans Mono',consolas,'Courier New',monospace\">Review: Hilarious I would have sworn Ed Wood wrote this Terrible I loved every\n",
       "frame Bad movie aficionados this is your trophy I will watch it again Words\n",
       "cannot explain how entertaining this movie is Pares career must have dipped low\n",
       "but I really think hes heading in the Leslie Nielson direction He was perfect\n",
       "for this Terrible just terrible Youll love it Get some friends lots of beer and\n",
       "youll have the time of your life Its an MST3000 party waiting to happen Enjoy It\n",
       "is worth the rental You like the Colombo type cop and the comic relief coroner\n",
       "The bad guy will have you on the floor laughing Hes also in another Pare movie\n",
       "Komodo vs Cobra and hes just as good there I dont know what the budget was but\n",
       "theyll get it back because this film is destined to be the best unintended\n",
       "comedy of the year\n",
       "</pre>\n"
      ],
      "text/plain": [
       "Review: Hilarious I would have sworn Ed Wood wrote this Terrible I loved every\n",
       "frame Bad movie aficionados this is your trophy I will watch it again Words\n",
       "cannot explain how entertaining this movie is Pares career must have dipped low\n",
       "but I really think hes heading in the Leslie Nielson direction He was perfect\n",
       "for this Terrible just terrible Youll love it Get some friends lots of beer and\n",
       "youll have the time of your life Its an MST3000 party waiting to happen Enjoy It\n",
       "is worth the rental You like the Colombo type cop and the comic relief coroner\n",
       "The bad guy will have you on the floor laughing Hes also in another Pare movie\n",
       "Komodo vs Cobra and hes just as good there I dont know what the budget was but\n",
       "theyll get it back because this film is destined to be the best unintended\n",
       "comedy of the year\n"
      ]
     },
     "metadata": {},
     "output_type": "display_data"
    },
    {
     "data": {
      "text/html": [
       "<pre style=\"white-space:pre;overflow-x:auto;line-height:normal;font-family:Menlo,'DejaVu Sans Mono',consolas,'Courier New',monospace\">\n",
       "Actual sentiment: negative\n",
       "</pre>\n"
      ],
      "text/plain": [
       "\n",
       "Actual sentiment: negative\n"
      ]
     },
     "metadata": {},
     "output_type": "display_data"
    },
    {
     "data": {
      "text/html": [
       "<pre style=\"white-space:pre;overflow-x:auto;line-height:normal;font-family:Menlo,'DejaVu Sans Mono',consolas,'Courier New',monospace\">Predicted sentiment: negative\n",
       "</pre>\n"
      ],
      "text/plain": [
       "Predicted sentiment: negative\n"
      ]
     },
     "metadata": {},
     "output_type": "display_data"
    },
    {
     "data": {
      "text/html": [
       "<pre style=\"white-space:pre;overflow-x:auto;line-height:normal;font-family:Menlo,'DejaVu Sans Mono',consolas,'Courier New',monospace\">================================================================================\n",
       "\n",
       "</pre>\n"
      ],
      "text/plain": [
       "================================================================================\n",
       "\n"
      ]
     },
     "metadata": {},
     "output_type": "display_data"
    },
    {
     "data": {
      "text/html": [
       "<pre style=\"white-space:pre;overflow-x:auto;line-height:normal;font-family:Menlo,'DejaVu Sans Mono',consolas,'Courier New',monospace\">Review: What can I say You expect only the best in drama from the BBC and\n",
       "MESSIAH is not an exception to the ruleMESSIAH is a great thriller a truly\n",
       "shocking and creepy tale about a serial killer who cuts out victims tongues and\n",
       "replaces them with silver spoons Police Officer Red Metcalfe Ken Stott and his\n",
       "team have the task of trying to solve the mystery of the seemingly random events\n",
       "before more lives are lostBut be warned despite its <span style=\"color: #008080; text-decoration-color: #008080; font-weight: bold\">15</span> rating in the UK MESSIAH\n",
       "is a bit of a gruesome film Some of the murder scenes are similar to those in\n",
       "SE7EN and one or two can be really stomachchurning But if you can withstand that\n",
       "sit back in your chair and enjoy although youll most likely be on the edge of it\n",
       "or hiding behind itRated <span style=\"color: #008080; text-decoration-color: #008080; font-weight: bold\">15</span> by the BBFC for moderate violence and strong horror\n",
       "</pre>\n"
      ],
      "text/plain": [
       "Review: What can I say You expect only the best in drama from the BBC and\n",
       "MESSIAH is not an exception to the ruleMESSIAH is a great thriller a truly\n",
       "shocking and creepy tale about a serial killer who cuts out victims tongues and\n",
       "replaces them with silver spoons Police Officer Red Metcalfe Ken Stott and his\n",
       "team have the task of trying to solve the mystery of the seemingly random events\n",
       "before more lives are lostBut be warned despite its \u001b[1;36m15\u001b[0m rating in the UK MESSIAH\n",
       "is a bit of a gruesome film Some of the murder scenes are similar to those in\n",
       "SE7EN and one or two can be really stomachchurning But if you can withstand that\n",
       "sit back in your chair and enjoy although youll most likely be on the edge of it\n",
       "or hiding behind itRated \u001b[1;36m15\u001b[0m by the BBFC for moderate violence and strong horror\n"
      ]
     },
     "metadata": {},
     "output_type": "display_data"
    },
    {
     "data": {
      "text/html": [
       "<pre style=\"white-space:pre;overflow-x:auto;line-height:normal;font-family:Menlo,'DejaVu Sans Mono',consolas,'Courier New',monospace\">\n",
       "Actual sentiment: positive\n",
       "</pre>\n"
      ],
      "text/plain": [
       "\n",
       "Actual sentiment: positive\n"
      ]
     },
     "metadata": {},
     "output_type": "display_data"
    },
    {
     "data": {
      "text/html": [
       "<pre style=\"white-space:pre;overflow-x:auto;line-height:normal;font-family:Menlo,'DejaVu Sans Mono',consolas,'Courier New',monospace\">Predicted sentiment: positive\n",
       "</pre>\n"
      ],
      "text/plain": [
       "Predicted sentiment: positive\n"
      ]
     },
     "metadata": {},
     "output_type": "display_data"
    },
    {
     "data": {
      "text/html": [
       "<pre style=\"white-space:pre;overflow-x:auto;line-height:normal;font-family:Menlo,'DejaVu Sans Mono',consolas,'Courier New',monospace\">================================================================================\n",
       "\n",
       "</pre>\n"
      ],
      "text/plain": [
       "================================================================================\n",
       "\n"
      ]
     },
     "metadata": {},
     "output_type": "display_data"
    },
    {
     "data": {
      "text/html": [
       "<pre style=\"white-space:pre;overflow-x:auto;line-height:normal;font-family:Menlo,'DejaVu Sans Mono',consolas,'Courier New',monospace\">Review: Bo Dereks debut film remained unseen for eight years  and thats how it\n",
       "should stayed John Derek was a competent actor but as a director hes virtually\n",
       "the Ed Wood of erotic cinema  not that this is especially explicit considering\n",
       "that Bo atypically sporting dark hair was only <span style=\"color: #008080; text-decoration-color: #008080; font-weight: bold\">16</span> when the film was made John\n",
       "also wrote and photographed it the latter results in some decent footage of the\n",
       "Greek island setting against which the narrative is set  but the plotting is\n",
       "puerile and the dialogue atrocious The character played by male lead Peter\n",
       "Hooten has been brought up with Bos family they grew up as brother and sister\n",
       "but now in their teens the couple discover theyre attracted to one another but\n",
       "as I said dont expect any sexual fireworks Still the worst thing about this is\n",
       "the fact that the protagonists each harbor an obsession all through the film\n",
       "which are not only silly in themselves but irritating in their relentlessness\n",
       "Hooten wants to turn the remote fishing community into a modernized seaside\n",
       "resort and keeps expecting a cruiseliner to appear into view which of course it\n",
       "does at the finale Dereks is even nuttier  she craves possession of a large\n",
       "antique bathtub For the record the couple are married by the end of the filmAlso\n",
       "involved in the nonevents are the female town mayor and a photographer lothario\n",
       "who wants to make a model out of Bo and who naturally incurs the wrath of the\n",
       "jealous Hooten Occasionally for no very good reason were even treated to\n",
       "snippets from the screening of old Hollywood classics in an openair movie house\n",
       "to which the whole town assembles among the titles shown is THE PUBLIC ENEMY\n",
       "<span style=\"color: #008080; text-decoration-color: #008080; font-weight: bold\">1931</span> At the end of the day while Bos naivete throughout is undeniably charming\n",
       "its not enough to offset the films overwhelming dullness and amateurishness\n",
       "</pre>\n"
      ],
      "text/plain": [
       "Review: Bo Dereks debut film remained unseen for eight years  and thats how it\n",
       "should stayed John Derek was a competent actor but as a director hes virtually\n",
       "the Ed Wood of erotic cinema  not that this is especially explicit considering\n",
       "that Bo atypically sporting dark hair was only \u001b[1;36m16\u001b[0m when the film was made John\n",
       "also wrote and photographed it the latter results in some decent footage of the\n",
       "Greek island setting against which the narrative is set  but the plotting is\n",
       "puerile and the dialogue atrocious The character played by male lead Peter\n",
       "Hooten has been brought up with Bos family they grew up as brother and sister\n",
       "but now in their teens the couple discover theyre attracted to one another but\n",
       "as I said dont expect any sexual fireworks Still the worst thing about this is\n",
       "the fact that the protagonists each harbor an obsession all through the film\n",
       "which are not only silly in themselves but irritating in their relentlessness\n",
       "Hooten wants to turn the remote fishing community into a modernized seaside\n",
       "resort and keeps expecting a cruiseliner to appear into view which of course it\n",
       "does at the finale Dereks is even nuttier  she craves possession of a large\n",
       "antique bathtub For the record the couple are married by the end of the filmAlso\n",
       "involved in the nonevents are the female town mayor and a photographer lothario\n",
       "who wants to make a model out of Bo and who naturally incurs the wrath of the\n",
       "jealous Hooten Occasionally for no very good reason were even treated to\n",
       "snippets from the screening of old Hollywood classics in an openair movie house\n",
       "to which the whole town assembles among the titles shown is THE PUBLIC ENEMY\n",
       "\u001b[1;36m1931\u001b[0m At the end of the day while Bos naivete throughout is undeniably charming\n",
       "its not enough to offset the films overwhelming dullness and amateurishness\n"
      ]
     },
     "metadata": {},
     "output_type": "display_data"
    },
    {
     "data": {
      "text/html": [
       "<pre style=\"white-space:pre;overflow-x:auto;line-height:normal;font-family:Menlo,'DejaVu Sans Mono',consolas,'Courier New',monospace\">\n",
       "Actual sentiment: negative\n",
       "</pre>\n"
      ],
      "text/plain": [
       "\n",
       "Actual sentiment: negative\n"
      ]
     },
     "metadata": {},
     "output_type": "display_data"
    },
    {
     "data": {
      "text/html": [
       "<pre style=\"white-space:pre;overflow-x:auto;line-height:normal;font-family:Menlo,'DejaVu Sans Mono',consolas,'Courier New',monospace\">Predicted sentiment: negative\n",
       "</pre>\n"
      ],
      "text/plain": [
       "Predicted sentiment: negative\n"
      ]
     },
     "metadata": {},
     "output_type": "display_data"
    },
    {
     "data": {
      "text/html": [
       "<pre style=\"white-space:pre;overflow-x:auto;line-height:normal;font-family:Menlo,'DejaVu Sans Mono',consolas,'Courier New',monospace\">================================================================================\n",
       "\n",
       "</pre>\n"
      ],
      "text/plain": [
       "================================================================================\n",
       "\n"
      ]
     },
     "metadata": {},
     "output_type": "display_data"
    },
    {
     "data": {
      "text/html": [
       "<pre style=\"white-space:pre;overflow-x:auto;line-height:normal;font-family:Menlo,'DejaVu Sans Mono',consolas,'Courier New',monospace\">Review: Just got this in the mail and I was positively surprised As a big fan of\n",
       "70s cinema it doesnt take much to satisfy me when it comes to these kind of\n",
       "flicks Despite the obvious low budget on this movie the acting is overall good\n",
       "and you can already see why Pesci was to become on of the greatest actors ever\n",
       "Im not sure how authentic this movie is but it sure is a good contribution to\n",
       "the mob genre\n",
       "</pre>\n"
      ],
      "text/plain": [
       "Review: Just got this in the mail and I was positively surprised As a big fan of\n",
       "70s cinema it doesnt take much to satisfy me when it comes to these kind of\n",
       "flicks Despite the obvious low budget on this movie the acting is overall good\n",
       "and you can already see why Pesci was to become on of the greatest actors ever\n",
       "Im not sure how authentic this movie is but it sure is a good contribution to\n",
       "the mob genre\n"
      ]
     },
     "metadata": {},
     "output_type": "display_data"
    },
    {
     "data": {
      "text/html": [
       "<pre style=\"white-space:pre;overflow-x:auto;line-height:normal;font-family:Menlo,'DejaVu Sans Mono',consolas,'Courier New',monospace\">\n",
       "Actual sentiment: positive\n",
       "</pre>\n"
      ],
      "text/plain": [
       "\n",
       "Actual sentiment: positive\n"
      ]
     },
     "metadata": {},
     "output_type": "display_data"
    },
    {
     "data": {
      "text/html": [
       "<pre style=\"white-space:pre;overflow-x:auto;line-height:normal;font-family:Menlo,'DejaVu Sans Mono',consolas,'Courier New',monospace\">Predicted sentiment: positive\n",
       "</pre>\n"
      ],
      "text/plain": [
       "Predicted sentiment: positive\n"
      ]
     },
     "metadata": {},
     "output_type": "display_data"
    },
    {
     "data": {
      "text/html": [
       "<pre style=\"white-space:pre;overflow-x:auto;line-height:normal;font-family:Menlo,'DejaVu Sans Mono',consolas,'Courier New',monospace\">================================================================================\n",
       "\n",
       "</pre>\n"
      ],
      "text/plain": [
       "================================================================================\n",
       "\n"
      ]
     },
     "metadata": {},
     "output_type": "display_data"
    },
    {
     "data": {
      "text/html": [
       "<pre style=\"white-space:pre;overflow-x:auto;line-height:normal;font-family:Menlo,'DejaVu Sans Mono',consolas,'Courier New',monospace\">Review: A very comical but down to earth look into the behind the scene workings\n",
       "of an Australian bowling club The way they deal with various problems such as\n",
       "takeovers memberships and general running of the club not to mention the car\n",
       "parking dilemma was well scripted\n",
       "</pre>\n"
      ],
      "text/plain": [
       "Review: A very comical but down to earth look into the behind the scene workings\n",
       "of an Australian bowling club The way they deal with various problems such as\n",
       "takeovers memberships and general running of the club not to mention the car\n",
       "parking dilemma was well scripted\n"
      ]
     },
     "metadata": {},
     "output_type": "display_data"
    },
    {
     "data": {
      "text/html": [
       "<pre style=\"white-space:pre;overflow-x:auto;line-height:normal;font-family:Menlo,'DejaVu Sans Mono',consolas,'Courier New',monospace\">\n",
       "Actual sentiment: positive\n",
       "</pre>\n"
      ],
      "text/plain": [
       "\n",
       "Actual sentiment: positive\n"
      ]
     },
     "metadata": {},
     "output_type": "display_data"
    },
    {
     "data": {
      "text/html": [
       "<pre style=\"white-space:pre;overflow-x:auto;line-height:normal;font-family:Menlo,'DejaVu Sans Mono',consolas,'Courier New',monospace\">Predicted sentiment: positive\n",
       "</pre>\n"
      ],
      "text/plain": [
       "Predicted sentiment: positive\n"
      ]
     },
     "metadata": {},
     "output_type": "display_data"
    },
    {
     "data": {
      "text/html": [
       "<pre style=\"white-space:pre;overflow-x:auto;line-height:normal;font-family:Menlo,'DejaVu Sans Mono',consolas,'Courier New',monospace\">================================================================================\n",
       "\n",
       "</pre>\n"
      ],
      "text/plain": [
       "================================================================================\n",
       "\n"
      ]
     },
     "metadata": {},
     "output_type": "display_data"
    },
    {
     "data": {
      "text/html": [
       "<pre style=\"white-space:pre;overflow-x:auto;line-height:normal;font-family:Menlo,'DejaVu Sans Mono',consolas,'Courier New',monospace\">Review: Considered by almost all the critics to be the best of the Johnny\n",
       "Weissmuller Tarzan films I have no argument with that although there are a\n",
       "couple of others I thought just as entertaining One thing its the longest of the\n",
       "series that Ive seen at <span style=\"color: #008080; text-decoration-color: #008080; font-weight: bold\">105</span> minutes Ive only seen six of them but this was\n",
       "longer than Im used to and with the drawnout action finale I thought the whole\n",
       "thing was a bit too longNonetheless it is a good mixture of action suspense and\n",
       "romance The only things missing are color and stereo sound The primitive\n",
       "specialeffects dont bother me as that was all that they had back in the\n",
       "1930sAmong some this film is most noted for one thing skin Jane never wore\n",
       "anything this skimpy after this film as the Hays Code was instituted by the time\n",
       "the next Tarzan film was made Her outfit showed what a great figure Maureen\n",
       "OSullivan possessed The nude underwater scene however was not her by a longshot\n",
       "The woman under the water didnt have a good figure at all whoever it wasThere is\n",
       "plenty of action in here Up to the finale it was not overdone either The ending\n",
       "went on for <span style=\"color: #008080; text-decoration-color: #008080; font-weight: bold\">15</span> minutes though and was so intense that it was almost too much to\n",
       "watchStill this movie offers about everything except Boy their adopted son youd\n",
       "want to see in a Tarzan film even OSullivan doing her Tarzan yell about a dozen\n",
       "times With her pair of lungs that was no problem\n",
       "</pre>\n"
      ],
      "text/plain": [
       "Review: Considered by almost all the critics to be the best of the Johnny\n",
       "Weissmuller Tarzan films I have no argument with that although there are a\n",
       "couple of others I thought just as entertaining One thing its the longest of the\n",
       "series that Ive seen at \u001b[1;36m105\u001b[0m minutes Ive only seen six of them but this was\n",
       "longer than Im used to and with the drawnout action finale I thought the whole\n",
       "thing was a bit too longNonetheless it is a good mixture of action suspense and\n",
       "romance The only things missing are color and stereo sound The primitive\n",
       "specialeffects dont bother me as that was all that they had back in the\n",
       "1930sAmong some this film is most noted for one thing skin Jane never wore\n",
       "anything this skimpy after this film as the Hays Code was instituted by the time\n",
       "the next Tarzan film was made Her outfit showed what a great figure Maureen\n",
       "OSullivan possessed The nude underwater scene however was not her by a longshot\n",
       "The woman under the water didnt have a good figure at all whoever it wasThere is\n",
       "plenty of action in here Up to the finale it was not overdone either The ending\n",
       "went on for \u001b[1;36m15\u001b[0m minutes though and was so intense that it was almost too much to\n",
       "watchStill this movie offers about everything except Boy their adopted son youd\n",
       "want to see in a Tarzan film even OSullivan doing her Tarzan yell about a dozen\n",
       "times With her pair of lungs that was no problem\n"
      ]
     },
     "metadata": {},
     "output_type": "display_data"
    },
    {
     "data": {
      "text/html": [
       "<pre style=\"white-space:pre;overflow-x:auto;line-height:normal;font-family:Menlo,'DejaVu Sans Mono',consolas,'Courier New',monospace\">\n",
       "Actual sentiment: positive\n",
       "</pre>\n"
      ],
      "text/plain": [
       "\n",
       "Actual sentiment: positive\n"
      ]
     },
     "metadata": {},
     "output_type": "display_data"
    },
    {
     "data": {
      "text/html": [
       "<pre style=\"white-space:pre;overflow-x:auto;line-height:normal;font-family:Menlo,'DejaVu Sans Mono',consolas,'Courier New',monospace\">Predicted sentiment: positive\n",
       "</pre>\n"
      ],
      "text/plain": [
       "Predicted sentiment: positive\n"
      ]
     },
     "metadata": {},
     "output_type": "display_data"
    },
    {
     "data": {
      "text/html": [
       "<pre style=\"white-space:pre;overflow-x:auto;line-height:normal;font-family:Menlo,'DejaVu Sans Mono',consolas,'Courier New',monospace\">================================================================================\n",
       "\n",
       "</pre>\n"
      ],
      "text/plain": [
       "================================================================================\n",
       "\n"
      ]
     },
     "metadata": {},
     "output_type": "display_data"
    },
    {
     "data": {
      "text/html": [
       "<pre style=\"white-space:pre;overflow-x:auto;line-height:normal;font-family:Menlo,'DejaVu Sans Mono',consolas,'Courier New',monospace\">Review: This movie as my Chinese girlfriend informed me features two wellknown\n",
       "Hong Kong pop stars While this may make the movie a mere marketing stunt I found\n",
       "the acting acceptable and theyre both cuteThe story is pretty poor overall The\n",
       "vampiric traits and weaknesses are however used in humorous ways and created\n",
       "some uniquely entertaining bits The quarreling between the two girls made me\n",
       "chuckle and this gave a fine balance together with the wellexecuted action\n",
       "scenes to create an entertaining movie\n",
       "</pre>\n"
      ],
      "text/plain": [
       "Review: This movie as my Chinese girlfriend informed me features two wellknown\n",
       "Hong Kong pop stars While this may make the movie a mere marketing stunt I found\n",
       "the acting acceptable and theyre both cuteThe story is pretty poor overall The\n",
       "vampiric traits and weaknesses are however used in humorous ways and created\n",
       "some uniquely entertaining bits The quarreling between the two girls made me\n",
       "chuckle and this gave a fine balance together with the wellexecuted action\n",
       "scenes to create an entertaining movie\n"
      ]
     },
     "metadata": {},
     "output_type": "display_data"
    },
    {
     "data": {
      "text/html": [
       "<pre style=\"white-space:pre;overflow-x:auto;line-height:normal;font-family:Menlo,'DejaVu Sans Mono',consolas,'Courier New',monospace\">\n",
       "Actual sentiment: positive\n",
       "</pre>\n"
      ],
      "text/plain": [
       "\n",
       "Actual sentiment: positive\n"
      ]
     },
     "metadata": {},
     "output_type": "display_data"
    },
    {
     "data": {
      "text/html": [
       "<pre style=\"white-space:pre;overflow-x:auto;line-height:normal;font-family:Menlo,'DejaVu Sans Mono',consolas,'Courier New',monospace\">Predicted sentiment: positive\n",
       "</pre>\n"
      ],
      "text/plain": [
       "Predicted sentiment: positive\n"
      ]
     },
     "metadata": {},
     "output_type": "display_data"
    },
    {
     "data": {
      "text/html": [
       "<pre style=\"white-space:pre;overflow-x:auto;line-height:normal;font-family:Menlo,'DejaVu Sans Mono',consolas,'Courier New',monospace\">================================================================================\n",
       "\n",
       "</pre>\n"
      ],
      "text/plain": [
       "================================================================================\n",
       "\n"
      ]
     },
     "metadata": {},
     "output_type": "display_data"
    },
    {
     "data": {
      "text/html": [
       "<pre style=\"white-space:pre;overflow-x:auto;line-height:normal;font-family:Menlo,'DejaVu Sans Mono',consolas,'Courier New',monospace\">Review: My boyfriend and I went to watch The GuardianAt first I didnt want to\n",
       "watch it but I loved the movie It was definitely the best movie I have seen in\n",
       "sometimeThey portrayed the USCG very well it really showed me what they do and I\n",
       "think they should really be appreciated moreNot only did it teach but it was a\n",
       "really good movie The movie shows what the really do and how hard the job isI\n",
       "think being a USCG would be challenging and very scary It was a great movie all\n",
       "around I would suggest this movie for anyone to seeThe ending broke my heart but\n",
       "I know why he did it The storyline was great I give it <span style=\"color: #008080; text-decoration-color: #008080; font-weight: bold\">2</span> thumbs up I cried it\n",
       "was very emotional I would give it a <span style=\"color: #008080; text-decoration-color: #008080; font-weight: bold\">20</span> if I could\n",
       "</pre>\n"
      ],
      "text/plain": [
       "Review: My boyfriend and I went to watch The GuardianAt first I didnt want to\n",
       "watch it but I loved the movie It was definitely the best movie I have seen in\n",
       "sometimeThey portrayed the USCG very well it really showed me what they do and I\n",
       "think they should really be appreciated moreNot only did it teach but it was a\n",
       "really good movie The movie shows what the really do and how hard the job isI\n",
       "think being a USCG would be challenging and very scary It was a great movie all\n",
       "around I would suggest this movie for anyone to seeThe ending broke my heart but\n",
       "I know why he did it The storyline was great I give it \u001b[1;36m2\u001b[0m thumbs up I cried it\n",
       "was very emotional I would give it a \u001b[1;36m20\u001b[0m if I could\n"
      ]
     },
     "metadata": {},
     "output_type": "display_data"
    },
    {
     "data": {
      "text/html": [
       "<pre style=\"white-space:pre;overflow-x:auto;line-height:normal;font-family:Menlo,'DejaVu Sans Mono',consolas,'Courier New',monospace\">\n",
       "Actual sentiment: positive\n",
       "</pre>\n"
      ],
      "text/plain": [
       "\n",
       "Actual sentiment: positive\n"
      ]
     },
     "metadata": {},
     "output_type": "display_data"
    },
    {
     "data": {
      "text/html": [
       "<pre style=\"white-space:pre;overflow-x:auto;line-height:normal;font-family:Menlo,'DejaVu Sans Mono',consolas,'Courier New',monospace\">Predicted sentiment: positive\n",
       "</pre>\n"
      ],
      "text/plain": [
       "Predicted sentiment: positive\n"
      ]
     },
     "metadata": {},
     "output_type": "display_data"
    },
    {
     "data": {
      "text/html": [
       "<pre style=\"white-space:pre;overflow-x:auto;line-height:normal;font-family:Menlo,'DejaVu Sans Mono',consolas,'Courier New',monospace\">================================================================================\n",
       "\n",
       "</pre>\n"
      ],
      "text/plain": [
       "================================================================================\n",
       "\n"
      ]
     },
     "metadata": {},
     "output_type": "display_data"
    },
    {
     "data": {
      "text/html": [
       "<pre style=\"white-space:pre;overflow-x:auto;line-height:normal;font-family:Menlo,'DejaVu Sans Mono',consolas,'Courier New',monospace\">Review: Having read many of the other reviews for this film on the IMDb there is\n",
       "ostensibly a consensus amongst purists that this film is nothing like the books\n",
       "upon which it is based Upon this point I cannot comment having never actually\n",
       "read any of the protagonists adventures previously However what I can say with\n",
       "certainty is that it strikes me that many of the said reviewers must have surely\n",
       "undergone a sense of humour bypass Lets be honest here this film is just so much\n",
       "funOK so I must concede the point that the film apparently is not representative\n",
       "of the characters but lets put this into a clear perspective do the same\n",
       "individuals who are carping on about this film also bemoan the fact that the\n",
       "classic 1960s Batman series does not remain faithful to the original DC comic\n",
       "book character Or perhaps is there STILL unrest in same persons that the <span style=\"color: #008080; text-decoration-color: #008080; font-weight: bold\">1980</span>\n",
       "film version of Flash Gordon was too much of a departure from the original\n",
       "seriesThe point is yes this film is incredibly camp but thats precisely its\n",
       "charmFormer Tarzan Ron Ely plays the eponymous hero in this and bears more than\n",
       "a passing resemblance to Gary Busey to boot and is backed up by a great\n",
       "supporting cast who all look to be having a ball with their respective roles\n",
       "Also look out for a very brief but highly welcome appearance by horror movie\n",
       "favourite Michael BerrymanBest scene Far too many to choose from but check out\n",
       "the hilarious facial expressions adopted by the waiter when Savage and his men\n",
       "commit the ultimate faux pas of ordering coke lemonade and milk at a formal\n",
       "occasion Also the often noted scene near the end of the film wherein Savage\n",
       "tackles his nemesis Captain Seas utilising various martial arts disciplines\n",
       "which are labelled on screen  PricelessSimply put the film doesnt take itself at\n",
       "all seriously and is all the more fun for it Great fun from start to finish and\n",
       "youll be singing the John Phillip Sousa adapted theme song for days afterwards\n",
       "guaranteed\n",
       "</pre>\n"
      ],
      "text/plain": [
       "Review: Having read many of the other reviews for this film on the IMDb there is\n",
       "ostensibly a consensus amongst purists that this film is nothing like the books\n",
       "upon which it is based Upon this point I cannot comment having never actually\n",
       "read any of the protagonists adventures previously However what I can say with\n",
       "certainty is that it strikes me that many of the said reviewers must have surely\n",
       "undergone a sense of humour bypass Lets be honest here this film is just so much\n",
       "funOK so I must concede the point that the film apparently is not representative\n",
       "of the characters but lets put this into a clear perspective do the same\n",
       "individuals who are carping on about this film also bemoan the fact that the\n",
       "classic 1960s Batman series does not remain faithful to the original DC comic\n",
       "book character Or perhaps is there STILL unrest in same persons that the \u001b[1;36m1980\u001b[0m\n",
       "film version of Flash Gordon was too much of a departure from the original\n",
       "seriesThe point is yes this film is incredibly camp but thats precisely its\n",
       "charmFormer Tarzan Ron Ely plays the eponymous hero in this and bears more than\n",
       "a passing resemblance to Gary Busey to boot and is backed up by a great\n",
       "supporting cast who all look to be having a ball with their respective roles\n",
       "Also look out for a very brief but highly welcome appearance by horror movie\n",
       "favourite Michael BerrymanBest scene Far too many to choose from but check out\n",
       "the hilarious facial expressions adopted by the waiter when Savage and his men\n",
       "commit the ultimate faux pas of ordering coke lemonade and milk at a formal\n",
       "occasion Also the often noted scene near the end of the film wherein Savage\n",
       "tackles his nemesis Captain Seas utilising various martial arts disciplines\n",
       "which are labelled on screen  PricelessSimply put the film doesnt take itself at\n",
       "all seriously and is all the more fun for it Great fun from start to finish and\n",
       "youll be singing the John Phillip Sousa adapted theme song for days afterwards\n",
       "guaranteed\n"
      ]
     },
     "metadata": {},
     "output_type": "display_data"
    },
    {
     "data": {
      "text/html": [
       "<pre style=\"white-space:pre;overflow-x:auto;line-height:normal;font-family:Menlo,'DejaVu Sans Mono',consolas,'Courier New',monospace\">\n",
       "Actual sentiment: positive\n",
       "</pre>\n"
      ],
      "text/plain": [
       "\n",
       "Actual sentiment: positive\n"
      ]
     },
     "metadata": {},
     "output_type": "display_data"
    },
    {
     "data": {
      "text/html": [
       "<pre style=\"white-space:pre;overflow-x:auto;line-height:normal;font-family:Menlo,'DejaVu Sans Mono',consolas,'Courier New',monospace\">Predicted sentiment: positive\n",
       "</pre>\n"
      ],
      "text/plain": [
       "Predicted sentiment: positive\n"
      ]
     },
     "metadata": {},
     "output_type": "display_data"
    },
    {
     "data": {
      "text/html": [
       "<pre style=\"white-space:pre;overflow-x:auto;line-height:normal;font-family:Menlo,'DejaVu Sans Mono',consolas,'Courier New',monospace\">================================================================================\n",
       "\n",
       "</pre>\n"
      ],
      "text/plain": [
       "================================================================================\n",
       "\n"
      ]
     },
     "metadata": {},
     "output_type": "display_data"
    }
   ],
   "source": [
    "import textwrap\n",
    "\n",
    "for i in range(len(texts)):\n",
    "    lines = textwrap.wrap(\"Review:\\n%s\\n\" % texts[i], width=80)\n",
    "    print(\"\\n\".join(lines))\n",
    "    print(\"\\nActual sentiment: %s\" % targets[i])\n",
    "    print(\"Predicted sentiment: %s\" % predictions[i])\n",
    "    print(\"================================================================================\\n\")"
   ]
  }
 ],
 "metadata": {
  "kernelspec": {
   "display_name": "Python 3 (ipykernel)",
   "language": "python",
   "name": "python3"
  },
  "language_info": {
   "codemirror_mode": {
    "name": "ipython",
    "version": 3
   },
   "file_extension": ".py",
   "mimetype": "text/x-python",
   "name": "python",
   "nbconvert_exporter": "python",
   "pygments_lexer": "ipython3",
   "version": "3.11.5"
  },
  "widgets": {
   "application/vnd.jupyter.widget-state+json": {
    "state": {},
    "version_major": 2,
    "version_minor": 0
   }
  }
 },
 "nbformat": 4,
 "nbformat_minor": 5
}
